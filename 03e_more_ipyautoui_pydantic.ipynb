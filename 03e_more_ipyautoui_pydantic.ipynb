{
 "cells": [
  {
   "cell_type": "markdown",
   "id": "46efd483-a73e-43e2-ba2e-879b790fcddf",
   "metadata": {},
   "source": [
    "# Further exploration of ipyautoui -- should this be fleshed out or dropped???\n",
    "\n",
    "The easiest way to get a better idea of what ipyautoui can do is to try out its demo. If you have time, feel free to explore!"
   ]
  },
  {
   "cell_type": "code",
   "execution_count": null,
   "id": "165c26b6-020f-446e-afff-8d236124d12f",
   "metadata": {},
   "outputs": [],
   "source": [
    "from ipyautoui import demo\n",
    "demo()"
   ]
  },
  {
   "cell_type": "markdown",
   "id": "e380a40b-2631-41e7-a0be-f94d89d8c492",
   "metadata": {},
   "source": [
    "# An extension: making the smoothing optional\n",
    "\n",
    "## More about pydantic and ipyautoui"
   ]
  },
  {
   "cell_type": "markdown",
   "id": "671a207d-4d0e-4394-94b4-686bf078003a",
   "metadata": {},
   "source": [
    "It might be convenient for the smoothing to be optional, with settings for window size and order available if the user wants to have the smoothed line on their graph.\n",
    "\n",
    "Our motivation for adding that feature is to illustrate the utility of pydantic and ipyautoui for rapidly refactoring the design of an interface."
   ]
  },
  {
   "cell_type": "markdown",
   "id": "8a6fdf9a-4e19-431a-9f27-59502f5c6c3b",
   "metadata": {},
   "source": [
    "## Step 1: make the smoothing settings a separate model"
   ]
  },
  {
   "cell_type": "markdown",
   "id": "3acaea6c-76fd-43cd-9150-31d00c2fc83f",
   "metadata": {},
   "source": [
    "We begin by making a pydnatic model for just the smoothing settings. The fields `window_size` and `polynomial_order` are identical to what we defined in the previous notebook."
   ]
  },
  {
   "cell_type": "code",
   "execution_count": null,
   "id": "7d369161-c7d1-4208-8da4-78083bd903ad",
   "metadata": {},
   "outputs": [],
   "source": [
    "from typing import Annotated\n",
    "\n",
    "from ipyautoui import AutoUi\n",
    "from pydantic import BaseModel, Field, model_validator"
   ]
  },
  {
   "cell_type": "code",
   "execution_count": null,
   "id": "c885cc5e-499f-4875-81e3-bdde383649b0",
   "metadata": {},
   "outputs": [],
   "source": [
    "class SmoothingSettings(BaseModel, validate_assignment=True):\n",
    "    window_size: Annotated[int, Field(ge=2, le=100)] = 2\n",
    "    polynomial_order: Annotated[int, Field(ge=1, le=10)] = 1\n",
    "\n",
    "    # mode=\"after\" means the validator runs after pydantic has checked that the individual\n",
    "    # fields have values that are valid.\n",
    "    @model_validator(mode=\"after\")\n",
    "    def limit_polynomial_order(self):\n",
    "        \n",
    "        if self.polynomial_order > self.window_size - 1:\n",
    "            # Handle a bad polynomial order or window size\n",
    "            raise ValueError(\"Polynomial order must be smaller than window size\")\n",
    "            \n",
    "        # If we got this far the polynomial order is consistent with the window size\n",
    "        # so return self. Failing to return self will end up causing an error.\n",
    "        return self"
   ]
  },
  {
   "cell_type": "markdown",
   "id": "52629f11-b270-4881-9e88-9bd82be1b386",
   "metadata": {},
   "source": [
    "Let's take a quick look at the ipyautoui-generated widget for this to make sure it is what we want."
   ]
  },
  {
   "cell_type": "code",
   "execution_count": null,
   "id": "2869bd97-a04e-46ea-8728-e4071bef2eaf",
   "metadata": {},
   "outputs": [],
   "source": [
    "ui_smooth = AutoUi(SmoothingSetttings)\n",
    "ui_smooth"
   ]
  },
  {
   "cell_type": "markdown",
   "id": "cf984643-99d6-42bc-944f-a34fee7aab02",
   "metadata": {},
   "source": [
    "Now we make a class to hold the controls which has two fields: `year_range` and `smoothing`. For `smoothing`, we use the union operator `|` in the type annotation to indicate that the `smoothing` can be either of type `SmoothingSettings` or can be `None`."
   ]
  },
  {
   "cell_type": "code",
   "execution_count": null,
   "id": "6f24859b-6f03-4dc2-958d-0075a8b076af",
   "metadata": {},
   "outputs": [],
   "source": [
    "class DataSelector(BaseModel, validate_assignment=True):\n",
    "    year_range: Annotated[\n",
    "        tuple[int, int],\n",
    "        Field(json_schema_extra=dict(autoui='ipywidgets.IntRangeSlider'))\n",
    "    ] = (1800, 2000)\n",
    "    smoothing: SmoothingSetttings | None"
   ]
  },
  {
   "cell_type": "markdown",
   "id": "a5607edc-ea3b-41a5-a48c-fabf10996aa9",
   "metadata": {},
   "source": [
    "Next, let's see how ipyautoui renders this."
   ]
  },
  {
   "cell_type": "code",
   "execution_count": null,
   "id": "ec243a99-2a21-4347-98d5-5aa39b1d0401",
   "metadata": {},
   "outputs": [],
   "source": [
    "ui_data_smooth = AutoUi(DataSelector)\n",
    "ui_data_smooth"
   ]
  },
  {
   "cell_type": "code",
   "execution_count": null,
   "id": "b4ca984e-fd4a-4f0a-bfea-37ffc2c96a7d",
   "metadata": {},
   "outputs": [],
   "source": [
    "# Force nullable fields to be shown\n",
    "ui_data_smooth.show_null = True"
   ]
  },
  {
   "cell_type": "code",
   "execution_count": null,
   "id": "f24ff140-1f7a-4ac7-b606-a54b441fcc28",
   "metadata": {},
   "outputs": [],
   "source": [
    "# Force nested models to open\n",
    "ui_data_smooth.open_nested = True"
   ]
  },
  {
   "cell_type": "code",
   "execution_count": null,
   "id": "534b6039-7f16-4671-bfab-6521b87654ac",
   "metadata": {},
   "outputs": [],
   "source": [
    "..."
   ]
  },
  {
   "cell_type": "code",
   "execution_count": null,
   "id": "0c9e977f-13a3-4d90-bb6b-ef32e6916c11",
   "metadata": {},
   "outputs": [],
   "source": []
  }
 ],
 "metadata": {
  "kernelspec": {
   "display_name": "Python 3 (ipykernel)",
   "language": "python",
   "name": "python3"
  },
  "language_info": {
   "codemirror_mode": {
    "name": "ipython",
    "version": 3
   },
   "file_extension": ".py",
   "mimetype": "text/x-python",
   "name": "python",
   "nbconvert_exporter": "python",
   "pygments_lexer": "ipython3",
   "version": "3.11.9"
  }
 },
 "nbformat": 4,
 "nbformat_minor": 5
}
