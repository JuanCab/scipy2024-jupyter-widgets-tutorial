{
 "cells": [
  {
   "cell_type": "code",
   "execution_count": null,
   "id": "a9598285-10ea-4ccb-849d-a1c5233068f3",
   "metadata": {},
   "outputs": [],
   "source": [
    "from typing import Annotated\n",
    "from pydantic import BaseModel, Field, computed_field, model_validator, ValidationError\n",
    "from ipyautoui import AutoUi\n",
    "from ipyautoui import AutoVjsf\n",
    "import ipywidgets as widgets"
   ]
  },
  {
   "cell_type": "markdown",
   "id": "1718f50e-847c-4959-98d7-0a6c3335120d",
   "metadata": {},
   "source": [
    "ALSO LOOK AT THIS: https://docs.pydantic.dev/latest/concepts/models/#dynamic-model-creation"
   ]
  },
  {
   "cell_type": "code",
   "execution_count": null,
   "id": "b7e6685f-5708-40cd-a02c-2cbff1c757a5",
   "metadata": {},
   "outputs": [],
   "source": [
    "class AppControls(BaseModel):\n",
    "    year_range: tuple[Annotated[int, Field(ge=1880, le=2023)], Annotated[int, Field(ge=1880, le=2023,)]] = (1880, 2023)\n",
    "    window_size: int = Field(default=2, ge=1, le=50)\n",
    "    polynomial_order: int = Field(ge=1, le=10)\n",
    "\n",
    "    @model_validator(mode=\"after\")\n",
    "    def limit_order(self):\n",
    "        if self.polynomial_order > self.window_size - 1:\n",
    "            raise ValueError(\"Polynomial order must be smaller than window size\")\n",
    "        \n",
    "        return self"
   ]
  },
  {
   "cell_type": "code",
   "execution_count": null,
   "id": "1674a203-d7b0-4d18-8ac3-64525523e33e",
   "metadata": {},
   "outputs": [],
   "source": [
    "ui = AutoUi(AppControls)"
   ]
  },
  {
   "cell_type": "code",
   "execution_count": null,
   "id": "fe74782e-a093-4ca0-a62f-d01349317adf",
   "metadata": {},
   "outputs": [],
   "source": [
    "ui"
   ]
  },
  {
   "cell_type": "code",
   "execution_count": null,
   "id": "29aafcc9-049e-49f2-9a2f-bb8923359a0d",
   "metadata": {
    "scrolled": true
   },
   "outputs": [],
   "source": [
    "out = widgets.Output()\n",
    "out"
   ]
  },
  {
   "cell_type": "code",
   "execution_count": null,
   "id": "17bcb09f-3835-40ec-b5c0-0c7289ebf290",
   "metadata": {},
   "outputs": [],
   "source": [
    "def show_value(change):\n",
    "    out.clear_output(wait=True)\n",
    "    with out:\n",
    "        print(f\"New value: {change['new']}\\nOld value: {change['old']}\")\n",
    "        try:\n",
    "            ui.model.model_validate(ui.value)\n",
    "        except ValidationError:\n",
    "            print(\"Resetting slider\")\n",
    "            ui.value = change['old']"
   ]
  },
  {
   "cell_type": "code",
   "execution_count": null,
   "id": "e5c0f9ae-10ca-4007-a05a-b67b40f7bc50",
   "metadata": {},
   "outputs": [],
   "source": [
    "ui.observe(show_value, \"_value\")"
   ]
  },
  {
   "cell_type": "code",
   "execution_count": null,
   "id": "71c7100e-e8bf-495d-b54e-607f71443c2e",
   "metadata": {},
   "outputs": [],
   "source": [
    "foo = ui.model.model_validate(ui.value)"
   ]
  },
  {
   "cell_type": "code",
   "execution_count": null,
   "id": "afb36cf9-8477-4599-b7aa-331f2c8f7f64",
   "metadata": {},
   "outputs": [],
   "source": [
    "foo.model_fields['polynomial_order']"
   ]
  },
  {
   "cell_type": "code",
   "execution_count": null,
   "id": "498e0d97-56ca-4017-a1c4-904fdbe87a62",
   "metadata": {},
   "outputs": [],
   "source": [
    "foo.model_json_schema()"
   ]
  },
  {
   "cell_type": "code",
   "execution_count": null,
   "id": "0e72ea0a-63a7-477a-a6a7-a4b195c47e75",
   "metadata": {},
   "outputs": [],
   "source": [
    "from ipyautoui import demo"
   ]
  },
  {
   "cell_type": "code",
   "execution_count": null,
   "id": "52fcd90e-1b5c-4a9d-9591-402979cad8e0",
   "metadata": {},
   "outputs": [],
   "source": [
    "demo"
   ]
  }
 ],
 "metadata": {
  "kernelspec": {
   "display_name": "Python 3 (ipykernel)",
   "language": "python",
   "name": "python3"
  },
  "language_info": {
   "codemirror_mode": {
    "name": "ipython",
    "version": 3
   },
   "file_extension": ".py",
   "mimetype": "text/x-python",
   "name": "python",
   "nbconvert_exporter": "python",
   "pygments_lexer": "ipython3",
   "version": "3.11.9"
  }
 },
 "nbformat": 4,
 "nbformat_minor": 5
}
