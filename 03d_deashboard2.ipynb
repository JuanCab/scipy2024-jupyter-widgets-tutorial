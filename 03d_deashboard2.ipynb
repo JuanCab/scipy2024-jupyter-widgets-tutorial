{
 "cells": [
  {
   "cell_type": "markdown",
   "id": "5e8831f5-5b28-4590-b268-c018e4c99c06",
   "metadata": {},
   "source": [
    "# Assemble the dashboard"
   ]
  },
  {
   "cell_type": "code",
   "execution_count": null,
   "id": "85267750-4890-4ef0-a33d-cc6998d3cbc3",
   "metadata": {},
   "outputs": [],
   "source": [
    "#| default_exp main"
   ]
  },
  {
   "cell_type": "code",
   "execution_count": null,
   "id": "c72b6687-7565-4287-b4dc-01c4446765e0",
   "metadata": {},
   "outputs": [],
   "source": [
    "#| export\n",
    "import ipywidgets as widgets\n",
    "\n",
    "from dashboard_pydantic.widgets_autoui import controls\n",
    "from dashboard_pydantic.widgets_classes import DataAndPlot, TextBoxes"
   ]
  },
  {
   "cell_type": "markdown",
   "id": "518d0c6a-10a5-4d5c-a14a-6adce2e2b23e",
   "metadata": {},
   "source": [
    "We assemble our final dashboard here. We will begin by making the left `VBox`, the right `VBox`, and the main container `HBox`."
   ]
  },
  {
   "cell_type": "code",
   "execution_count": null,
   "id": "43b9bc72-a2bb-4561-9e04-aa1c1da6a1ff",
   "metadata": {},
   "outputs": [],
   "source": [
    "#| export \n",
    "\n",
    "# Create a VBox to hold the description and control widgets\n",
    "desc_and_ctrl_box = widgets.VBox()\n",
    "\n",
    "# Add a vertical box holding both table and plot visualizations of selected data\n",
    "data_box = widgets.VBox()\n",
    "\n",
    "# The entire widget\n",
    "main_widget = widgets.HBox(children = (desc_and_ctrl_box, data_box))"
   ]
  },
  {
   "cell_type": "markdown",
   "id": "bc1ff4db-7a93-4d66-8fc7-ca8d66395cf4",
   "metadata": {},
   "source": [
    "Let's display the widget so we can see what changes as we work on the dashboard. It is helpful to make a new view for this output."
   ]
  },
  {
   "cell_type": "code",
   "execution_count": null,
   "id": "b0dd2cb1-9bf7-466d-a8f1-aa091dff7b7d",
   "metadata": {},
   "outputs": [],
   "source": [
    "main_widget"
   ]
  },
  {
   "cell_type": "markdown",
   "id": "23587e62-9e05-4bb0-8b1a-5be12aeed12c",
   "metadata": {},
   "source": [
    "Next we create an instance of each of the widget classes and set the children of the left and right boxes."
   ]
  },
  {
   "cell_type": "code",
   "execution_count": null,
   "id": "4940f5ed-adb5-425e-a116-a003c1201a2d",
   "metadata": {},
   "outputs": [],
   "source": [
    "#| export\n",
    "\n",
    "data_and_plot = DataAndPlot()\n",
    "text_boxes = TextBoxes()\n",
    "\n",
    "desc_and_ctrl_box.children = (text_boxes, controls)\n",
    "data_box.children = (data_and_plot.data_output, data_and_plot.plot_output)"
   ]
  },
  {
   "cell_type": "markdown",
   "id": "900f8139-660a-4963-b498-47976adf71ee",
   "metadata": {},
   "source": [
    "No plot is displayed yet because we haven't set any of the display parameters. We make that connection below using a way to connect widgets that we have not discussed yet: widgets traitlets can be linked to each other so that any change in the value of one changes the other.\n",
    "\n",
    "`link` takes two required arguments and one optional argument. The required arguments are each a tuple of a widget and the attribute of that widget to be linked. The optional argument,w hich we won't use here, is a callable that transforms the attribute on the source to the attribute on the target."
   ]
  },
  {
   "cell_type": "code",
   "execution_count": null,
   "id": "f613dc00-640a-443f-9968-bf26d8c85a86",
   "metadata": {},
   "outputs": [],
   "source": [
    "#| export\n",
    "\n",
    "source = (controls, \"_value\")\n",
    "target = (data_and_plot, \"smoothing_info\")\n",
    "link = widgets.link(source, target)"
   ]
  },
  {
   "cell_type": "markdown",
   "id": "8d314b6d-f565-4a36-a4ea-ecca3ced8987",
   "metadata": {},
   "source": [
    "As usual, we finish by exporting with nbdev."
   ]
  },
  {
   "cell_type": "code",
   "execution_count": null,
   "id": "acf9d721-c000-4436-8515-4d1318ccf269",
   "metadata": {},
   "outputs": [],
   "source": [
    "from nbdev.export import nb_export\n",
    "\n",
    "nb_export('03d_deashboard2.ipynb', 'dashboard_pydantic')"
   ]
  },
  {
   "cell_type": "code",
   "execution_count": null,
   "id": "cfc01c4c-8928-4f22-8aff-628ff7fa9cbf",
   "metadata": {},
   "outputs": [],
   "source": []
  }
 ],
 "metadata": {
  "kernelspec": {
   "display_name": "Python 3 (ipykernel)",
   "language": "python",
   "name": "python3"
  },
  "language_info": {
   "codemirror_mode": {
    "name": "ipython",
    "version": 3
   },
   "file_extension": ".py",
   "mimetype": "text/x-python",
   "name": "python",
   "nbconvert_exporter": "python",
   "pygments_lexer": "ipython3",
   "version": "3.11.9"
  }
 },
 "nbformat": 4,
 "nbformat_minor": 5
}
