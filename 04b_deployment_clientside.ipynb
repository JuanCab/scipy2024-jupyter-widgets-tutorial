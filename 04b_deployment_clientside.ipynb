{
 "cells": [
  {
   "cell_type": "markdown",
   "id": "06a0236b-3c68-4156-a4ab-d44f241284c5",
   "metadata": {},
   "source": [
    "# Deploying Your Dashboard: Client-Side Processing Options\n",
    "\n",
    "## TO DO IN THIS NOTEBOOK\n",
    "- [ ] Discuss Voici as a Jupyter lite based alternative to Voila (although there are restrictions to its use tied to Jupyter lite)\n",
    "- [ ] Discuss nbdev depolyment as static pages.\n",
    "- [ ] Discuss deployment to Github Pages as a static site.\n",
    "- [ ] Discuss deployment to Sphinx (not sure this is actually possible)"
   ]
  },
  {
   "cell_type": "markdown",
   "id": "c923d722-0b2c-42ba-b3c0-2e0676ffc81f",
   "metadata": {},
   "source": [
    "We have reviewed server-side processing options for deploying your dashboard. These options have one very annoying problem, if you have many users of your Jupyter-based application, you need to have very robust hosting hardware to handle the load.\n",
    "\n",
    "Now, let's look at client-side processing options. These options have some limitations, notably most depend on Jupyter lite, which is still in beta. However, they are worth exploring."
   ]
  },
  {
   "cell_type": "markdown",
   "id": "89b3df3d-e2c4-4b8d-91bc-64d96420b6bd",
   "metadata": {},
   "source": [
    "# Congratulations!\n",
    "\n",
    "That concludes this tutorial section. Great job everyone."
   ]
  },
  {
   "cell_type": "code",
   "execution_count": null,
   "id": "6ff03b61-611c-4bcf-9925-e0bd469ea081",
   "metadata": {},
   "outputs": [],
   "source": []
  }
 ],
 "metadata": {
  "kernelspec": {
   "display_name": "python3",
   "language": "python",
   "name": "python3"
  }
 },
 "nbformat": 4,
 "nbformat_minor": 5
}
