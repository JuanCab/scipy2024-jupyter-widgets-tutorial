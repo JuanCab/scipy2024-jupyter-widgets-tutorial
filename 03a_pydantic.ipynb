{
 "cells": [
  {
   "cell_type": "markdown",
   "metadata": {},
   "source": [
    "# Introducing Pydantic: Pythonic Data Validation\n",
    "\n",
    "[Pydantic](https://docs.pydantic.dev/latest/) is a data validation library in Python that provides a way to define data schemas in a way that is both Pythonic and easy to use. \n",
    "\n",
    "\n",
    "## TO DO IN THIS NOTEBOOK\n",
    "- [ ] Note the problem of data validation and the complexity of the multiple observers pattern needed to handle that even for this relatively simple dashboard. We want to improve our previous dashboard by better handling data validation and more easily handling the generation of the settings UI.\n",
    "- [ ] Review history of type annotation (and their use in dataclasses) and data validation in Python (?)\n",
    "- [ ] Introduce Pydantic\n",
    "- [ ] Show how to define a Pydantic model\n",
    "- [ ] Show how to validate data using a Pydantic model including constraints\n",
    "- [ ] Mention other features of Pydantic that may be relevant to our dashboard\n",
    "- [ ] Have them migrate the existing data validation in the dashboard project to pydantic (might require a lot of refactoring of the code)"
   ]
  }
 ],
 "metadata": {
  "language_info": {
   "name": "python"
  }
 },
 "nbformat": 4,
 "nbformat_minor": 2
}
