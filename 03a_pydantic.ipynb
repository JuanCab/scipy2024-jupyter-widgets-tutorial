{
 "cells": [
  {
   "cell_type": "markdown",
   "metadata": {},
   "source": [
    "# Introducing Pydantic: Pythonic Data Validation\n",
    "\n",
    "[Pydantic](https://docs.pydantic.dev/latest/) is a data validation library in Python that provides a way to define data schemas in a way that is both Pythonic and easy to use. \n",
    "\n",
    "\n",
    "## TO DO IN THIS NOTEBOOK\n",
    "- [x] Note the problem of data validation and the complexity of the multiple observers pattern needed to handle that even for this relatively simple dashboard. We want to improve our previous dashboard by better handling data validation and more easily handling the generation of the settings UI.\n",
    "- [x] Introduce classes\n",
    "- [x] Use of type annotation in dataclasses and data validation in Python (?)\n",
    "- [x] Introduce type annotations\n",
    "- [x] Introduce Pydantic\n",
    "- [x] Show how to define a Pydantic model and use it to \n",
    "  - [x] validate data using a Pydantic model\n",
    "  - [x] express constraints of smoothing window/order in pydantic\n",
    "- [ ] Mention other features of Pydantic that may be relevant to our dashboard\n",
    "- [ ] Have them migrate the existing data validation in the dashboard project to pydantic (might require a lot of refactoring of the code)"
   ]
  },
  {
   "cell_type": "markdown",
   "metadata": {},
   "source": [
    "## What problem are we trying to solve?\n",
    "\n",
    "The dashboard we have built so far works, but would be hard to include as part of a larger project, and its individual components would be difficult to reuse. For example, the controls to select a range of years and apply smoothing to the data would be useful in making other graphs. As the code stand now, it would be hard to take those pieces as a unit and integrate them into a different dashboard.\n",
    "\n",
    "Put differenly, one might want a `DataSelector` widget that has as its value a range of years, a smoothing windows, and a polynomial order for the smoothing that can be reused.\n",
    "\n",
    "### Our route to the solution is indirect\n",
    "\n",
    "In this notebook we will define a class using Pydantic that does not, by itself, have any widgets attached to it. In the next notebook we will use `ipyautoui` to generate a widget-based user interface from our Pydantic class that will be much easier to reuse.\n",
    "\n",
    "### Goals for our pydantic class:\n",
    "\n",
    "The class should have these attributes (also called *fields* in the pydantic documentation):\n",
    "\n",
    "+ `year_range`, the range of time selected.\n",
    "+ `window_size`, the size of the smoothing window.\n",
    "+ `polynomial_order`, the order of the polynomial used in smoothing.\n",
    "\n",
    "These attributes also have some important constraints:\n",
    "\n",
    "+ The `window_size` should be an integer larger than one and, to match our earlier example, less than or equal to 100.\n",
    "+ The `polynomial_order` should be an integer less than or equal to 10, and less than the `window_size`.\n"
   ]
  },
  {
   "cell_type": "markdown",
   "metadata": {},
   "source": [
    "## Writing classes\n",
    "\n",
    "We being with a quick review of writing classes in Python. The smallest class you can write is below. It does not really do anything, but you can create instances of it."
   ]
  },
  {
   "cell_type": "code",
   "execution_count": null,
   "metadata": {},
   "outputs": [],
   "source": [
    "class Basic:\n",
    "    \"\"\"This basic class does nothing!\"\"\""
   ]
  },
  {
   "cell_type": "code",
   "execution_count": null,
   "metadata": {},
   "outputs": [],
   "source": [
    "basic = Basic()\n",
    "print(basic)"
   ]
  },
  {
   "cell_type": "markdown",
   "metadata": {},
   "source": [
    "There is not much going on here, but we do at least get a docstring:"
   ]
  },
  {
   "cell_type": "code",
   "execution_count": null,
   "metadata": {},
   "outputs": [],
   "source": [
    "print(basic.__doc__)"
   ]
  },
  {
   "cell_type": "markdown",
   "metadata": {},
   "source": [
    "Next, we write a class with a single attribute, called `year_range`. This is not the most compact or efficient way that a class that simply has one attribute could be written, but that is deliberate. Understanding the \"plainest\" way to do this will help motivate some of the shortcuts we see in a little bit.\n",
    "\n",
    "This class has a method called `__init__` that is called when the class is created. It is one of many special methods (called \"magic\" methods) recognized by Python.\n",
    "\n",
    "The `print` statement in the `__init__` is there to make it easier to see when it is called."
   ]
  },
  {
   "cell_type": "code",
   "execution_count": null,
   "metadata": {},
   "outputs": [],
   "source": [
    "class DataSelectorPlainPython:\n",
    "    \"\"\"\n",
    "    Partial implementation of a class to hold a data selector widget.\n",
    "    \"\"\"\n",
    "    def __init__(self, year_range_input=(1800, 2000)):\n",
    "        self.year_range = year_range_input\n",
    "        print(f\"In __init__, {year_range_input=} and {self.year_range=}\")"
   ]
  },
  {
   "cell_type": "markdown",
   "metadata": {},
   "source": [
    "Let's make an instance of this class and print it."
   ]
  },
  {
   "cell_type": "code",
   "execution_count": null,
   "metadata": {},
   "outputs": [],
   "source": [
    "selector_plain = DataSelectorPlainPython()\n",
    "print(f\"{selector_plain=}\")\n",
    "print(f\"{selector_plain.year_range=}\")"
   ]
  },
  {
   "cell_type": "markdown",
   "metadata": {},
   "source": [
    "It is great that we can see (and could use) the `year_range` but printing the object itself is not that nice. We will return to that later."
   ]
  },
  {
   "cell_type": "markdown",
   "metadata": {},
   "source": [
    "### Exercise"
   ]
  },
  {
   "cell_type": "markdown",
   "metadata": {},
   "source": [
    "1. Try making another instance of `DataSelectorPlainPython` with a `year_range` of 1950 to 2020. You cannot modify the class definition to do this part."
   ]
  },
  {
   "cell_type": "code",
   "execution_count": null,
   "metadata": {},
   "outputs": [],
   "source": []
  },
  {
   "cell_type": "markdown",
   "metadata": {},
   "source": [
    "2. Add a `window_size` attribute and a `polynomial_order` attribute to the class in the cell below."
   ]
  },
  {
   "cell_type": "code",
   "execution_count": null,
   "metadata": {},
   "outputs": [],
   "source": [
    "class DataSelectorPlainPython:\n",
    "    \"\"\"\n",
    "    Partial implementation of a class to hold a data selector widget.\n",
    "    \"\"\"\n",
    "    def __init__(self, year_range_input=(1800, 2000)):\n",
    "        self.year_range = year_range_input\n",
    "        # Put your code here and in the __init__ call too"
   ]
  },
  {
   "cell_type": "markdown",
   "metadata": {},
   "source": [
    "3. Make an instance of the class and print each of its attributes."
   ]
  },
  {
   "cell_type": "code",
   "execution_count": null,
   "metadata": {},
   "outputs": [],
   "source": [
    "# your code here"
   ]
  },
  {
   "cell_type": "markdown",
   "metadata": {},
   "source": [
    "4. Try setting the attributes to nonsense values, e.g. a string, and see what happens."
   ]
  },
  {
   "cell_type": "code",
   "execution_count": null,
   "metadata": {},
   "outputs": [],
   "source": []
  },
  {
   "cell_type": "code",
   "execution_count": null,
   "metadata": {},
   "outputs": [],
   "source": [
    "sel_plain_2 = DataSelectorPlainPython(year_range_input=(1991, 2018))\n",
    "sel_plain_3 = DataSelectorPlainPython(year_range_input=(1991, 2018))"
   ]
  },
  {
   "cell_type": "code",
   "execution_count": null,
   "metadata": {},
   "outputs": [],
   "source": [
    "sel_plain_2 == selector_plain"
   ]
  },
  {
   "cell_type": "code",
   "execution_count": null,
   "metadata": {},
   "outputs": [],
   "source": [
    "sel_plain_3 == sel_plain_2"
   ]
  },
  {
   "cell_type": "markdown",
   "metadata": {},
   "source": [
    "At this point we have a class which has all the attributes we want, though it has no widgets attached to it, no notion of what constitute valid values, and is a little verbose to write."
   ]
  },
  {
   "cell_type": "markdown",
   "metadata": {},
   "source": [
    "## `dataclass`: a more compact plain Python approach\n",
    "\n",
    "Writing a class with multiple attributes gets repetitive in Python. Each attribute typically comes with an argument to the class and lines of boilerplate code to set the attributes of the class to the those arguments.\n",
    "\n",
    "Data classes were introduced in Python 3.7 to make that sort of code more compact to write. They leverage *type annotations*, which were added to the language in version 3.0, and allow you to provide some information about the type of a variable.\n",
    "\n",
    "The class below is an implemenation, using data classes, of part of the `DataSelectorPlainPython` we wrote above."
   ]
  },
  {
   "cell_type": "code",
   "execution_count": null,
   "metadata": {},
   "outputs": [],
   "source": [
    "from dataclasses import dataclass\n",
    "\n",
    "@dataclass \n",
    "class DataSelectorDataClass:\n",
    "    \"\"\"\n",
    "    Partial implementation of a class to hold a data selector widget using dataclasses.\n",
    "    \"\"\"\n",
    "    year_range: tuple = (1800, 2000)"
   ]
  },
  {
   "cell_type": "markdown",
   "metadata": {},
   "source": [
    "This is already much more compact than the initial class definition above. Python automatically creates an `__init__` method for this class that sets the class up. It also comes with some extras:"
   ]
  },
  {
   "cell_type": "code",
   "execution_count": null,
   "metadata": {},
   "outputs": [],
   "source": [
    "selector_dc = DataSelectorDataClass()"
   ]
  },
  {
   "cell_type": "code",
   "execution_count": null,
   "metadata": {},
   "outputs": [],
   "source": [
    "print(selector_dc)"
   ]
  },
  {
   "cell_type": "markdown",
   "metadata": {},
   "source": [
    "Compare this to what we get for our plain Python class:"
   ]
  },
  {
   "cell_type": "code",
   "execution_count": null,
   "metadata": {},
   "outputs": [],
   "source": [
    "print(selector_plain)"
   ]
  },
  {
   "cell_type": "markdown",
   "metadata": {},
   "source": [
    "As we will see in a few minutes, in addition to getting a nice string representation of the object for free, we also get the ability to test for equality of two instances."
   ]
  },
  {
   "cell_type": "markdown",
   "metadata": {},
   "source": [
    "### Exercise\n",
    "\n",
    "1. Extend `DataSelectorDataClass` so that it also has a `window_size` and a `polynomial_order`."
   ]
  },
  {
   "cell_type": "code",
   "execution_count": null,
   "metadata": {},
   "outputs": [],
   "source": []
  },
  {
   "cell_type": "markdown",
   "metadata": {},
   "source": [
    "2. Recall that testing for equality did not work the way we wanted for the plain Python version of our data selector. Try comparing the two selectors below with each and with `selector_dc` to see if equality testing works."
   ]
  },
  {
   "cell_type": "code",
   "execution_count": null,
   "metadata": {},
   "outputs": [],
   "source": [
    "sel_dc_2 = DataSelectorDataClass(year_range=(1991, 2018))\n",
    "sel_dc_3 = DataSelectorDataClass(year_range=(1991, 2018))"
   ]
  },
  {
   "cell_type": "code",
   "execution_count": null,
   "metadata": {},
   "outputs": [],
   "source": [
    "sel_dc_2 == selector_dc"
   ]
  },
  {
   "cell_type": "code",
   "execution_count": null,
   "metadata": {},
   "outputs": [],
   "source": [
    "sel_dc_2 == sel_dc_3"
   ]
  },
  {
   "cell_type": "markdown",
   "metadata": {},
   "source": [
    "### Data class summary\n",
    "\n",
    "Using `dataclass` to define our selector has several advantages:\n",
    "\n",
    "+ It is less code.\n",
    "+ It has a human-readable string representation.\n",
    "+ You can check whether instances of the class are equal.\n",
    "\n",
    "We could have done those last two things without `dataclass` by defining a couple of special methods methods in our class definition. It is really nice to just have it happen automatically behind the scenes, though!\n",
    "\n",
    "*Note:* There is much more to data classes than we have covered. Read more about them XXX or in the [Python documentation](https://docs.python.org/3/library/dataclasses.html)."
   ]
  },
  {
   "cell_type": "markdown",
   "metadata": {},
   "source": [
    "## Progress check\n",
    "\n",
    "The data class was relatively straightforward to write and looks promising for representing our controls:\n",
    "\n",
    "```python\n",
    "@dataclass \n",
    "class DataSelectorDataClass:\n",
    "    \"\"\"\n",
    "    Partial implementation of a class to hold a data selector widget using dataclasses.\n",
    "    \"\"\"\n",
    "    year_range: tuple = (1800, 2000)\n",
    "    window_size: int = 2\n",
    "    polynomial_order: int = 1\n",
    "```\n",
    "\n",
    "There are a couple of issues, though:\n",
    "\n",
    "+ You can set any of the attributes to whatever value you want. This will raise no errors: `DataSelectorDataClass(year_range=5, window_size=\"three\", polynomial_order=-3.14159)`.\n",
    "+ None of the contraints we wanted are enforced.\n",
    "\n",
    "Pydantic will help us solve these issues."
   ]
  },
  {
   "cell_type": "markdown",
   "metadata": {},
   "source": [
    "## Using pydantic to define our class\n",
    "\n",
    "The `pydantic` library solves several of our problems and gets us a few more abilities for free:\n",
    "\n",
    "+ It is designed to help enforce type requirements. It can do its best to convert values for you, or not if you prefer that.\n",
    "+ Simple constraints like \"this number must be greater than or equal to two\" are easy to express.\n",
    "+ More complicated constraints like \"this number must be smaller than this other one\" are possible to express.\n",
    "+ It is straightforward to save objects to disk."
   ]
  },
  {
   "cell_type": "code",
   "execution_count": null,
   "metadata": {},
   "outputs": [],
   "source": [
    "#| default_exp widgets_pydantic"
   ]
  },
  {
   "cell_type": "markdown",
   "metadata": {},
   "source": [
    "### Making a class using pydantic\n",
    "\n",
    "One way to use pydantic to make a class is to import a class called `BaseModel` from it and subclass that. It ends up looking a lot like a data class:"
   ]
  },
  {
   "cell_type": "code",
   "execution_count": null,
   "metadata": {},
   "outputs": [],
   "source": [
    "from pydantic import BaseModel\n",
    "\n",
    "class DataSelectorModelDraft1(BaseModel):\n",
    "    year_range: tuple = (1800, 2000)\n",
    "    window_size: int = 2\n",
    "    polynomial_order: int = 1"
   ]
  },
  {
   "cell_type": "markdown",
   "metadata": {},
   "source": [
    "Like a data class, attributes are defined by adding a type annotation. Unlike data classes, pydantic enforces types. Try running the cell below, which will raise an exception:"
   ]
  },
  {
   "cell_type": "code",
   "execution_count": null,
   "metadata": {},
   "outputs": [],
   "source": [
    "selector_pyd = DataSelectorModelDraft1(year_range=5, window_size=\"three\", polynomial_order=-3.14159)"
   ]
  },
  {
   "cell_type": "markdown",
   "metadata": {},
   "source": [
    "### Exercise\n",
    "\n",
    "1. Make a valid instance of `DataSelectorModelDraft1`, i.e. an instance that does not raise an error when you create it. Feel free to try to come up with an instances that might surprise other people."
   ]
  },
  {
   "cell_type": "code",
   "execution_count": null,
   "metadata": {},
   "outputs": [],
   "source": []
  },
  {
   "cell_type": "markdown",
   "metadata": {},
   "source": [
    "There a few ways of making an instance of a pydantic model:\n",
    "\n",
    "1. Provide arguments when you call the class; this is what we did above.\n",
    "2. From a dictionary of values, using the class method `model_validate`.\n",
    "3. From json.\n",
    "\n",
    "We will come back to the third way later in the notebook. An example of the second way is below."
   ]
  },
  {
   "cell_type": "code",
   "execution_count": null,
   "metadata": {},
   "outputs": [],
   "source": [
    "my_choices = {\n",
    "    \"year_range\": (1900, 1950),\n",
    "    \"window_size\": 10,\n",
    "    \"polynomial_order\": 2,\n",
    "}\n",
    "\n",
    "DataSelectorModelDraft1.model_validate(my_choices)"
   ]
  },
  {
   "cell_type": "markdown",
   "metadata": {},
   "source": [
    "### Imposing constraints after object creation"
   ]
  },
  {
   "cell_type": "markdown",
   "metadata": {},
   "source": [
    "By default, pydantic imposes its constraints only when you create the object. Consider this example:"
   ]
  },
  {
   "cell_type": "code",
   "execution_count": null,
   "metadata": {},
   "outputs": [],
   "source": [
    "selector_pyd_simple = DataSelectorModelDraft1()\n",
    "selector_pyd_simple.window_size = \"two\"\n",
    "selector_pyd_simple"
   ]
  },
  {
   "cell_type": "markdown",
   "metadata": {},
   "source": [
    "Note that `window_size` has been set to a string, not an integer."
   ]
  },
  {
   "cell_type": "markdown",
   "metadata": {},
   "source": [
    "However, pydantic can be configured to check types when values are assigned by using the `validate_assignment` configuration. There are many more options available in [pydantic configuration](https://docs.pydantic.dev/latest/concepts/config/)."
   ]
  },
  {
   "cell_type": "code",
   "execution_count": null,
   "metadata": {},
   "outputs": [],
   "source": [
    "class DataSelectorModelDraft2(BaseModel, validate_assignment=True):\n",
    "    year_range: tuple = (1800, 2000)\n",
    "    window_size: int = 2\n",
    "    polynomial_order: int = 1"
   ]
  },
  {
   "cell_type": "markdown",
   "metadata": {},
   "source": [
    "Now an exception is raised when we try to assign a string to `window_size`."
   ]
  },
  {
   "cell_type": "code",
   "execution_count": null,
   "metadata": {},
   "outputs": [],
   "source": [
    "selector_pyd_simple2 = DataSelectorModelDraft2()\n",
    "selector_pyd_simple2.window_size = \"two\""
   ]
  },
  {
   "cell_type": "markdown",
   "metadata": {},
   "source": [
    "### More specific constraints on types\n",
    "\n",
    "You might be surprised to see that the line below raises no error."
   ]
  },
  {
   "cell_type": "code",
   "execution_count": null,
   "metadata": {},
   "outputs": [],
   "source": [
    "selector_pyd_simple2.year_range = (\"eightteen eighty 5\", 8+5j)"
   ]
  },
  {
   "cell_type": "markdown",
   "metadata": {},
   "source": [
    "The reason is that pydantic simply checks to see that a tuple is being assigned to `year_range` -- the contents of the tuple can be anything at all. This would also raise no errors: `selector_pyd_simple2.year_range = (1, 2, 3)`\n",
    "\n",
    "Python type annotations provide a way to provide information about what the tuple should consist of by putting the contents in square brackets, as shown in the cell below."
   ]
  },
  {
   "cell_type": "code",
   "execution_count": null,
   "metadata": {},
   "outputs": [],
   "source": [
    "class DataSelectorModelDraft3(BaseModel, validate_assignment=True):\n",
    "    year_range: tuple[int, int] = (1800, 2000)\n",
    "    window_size: int = 2\n",
    "    polynomial_order: int = 1"
   ]
  },
  {
   "cell_type": "markdown",
   "metadata": {},
   "source": [
    "With this change, trying to assign `(\"eightteen eighty 5\", 8+5j)` to `window_size` will fail."
   ]
  },
  {
   "cell_type": "code",
   "execution_count": null,
   "metadata": {},
   "outputs": [],
   "source": [
    "selector_pyd_simple3 = DataSelectorModelDraft3()\n",
    "selector_pyd_simple3.year_range = (\"eightteen eighty 5\", 8+5j)"
   ]
  },
  {
   "cell_type": "markdown",
   "metadata": {},
   "source": [
    "### Imposing constraints on field values\n",
    "\n",
    "*Attributes in a pydantic model are typically called fields, terminology we will use for the remainder of the notebook.*\n",
    "\n",
    "We have made some progress but we still have not imposed the constraints we want on window size and polynomial order. There are a couple new concepts we need to do that:\n",
    "\n",
    "+ `Annotated` from Python's typing system lets you add additional information about the type of an item. Here we will use it to add information about the constraint on a field.\n",
    "+ The `Field` class from pydantic is a class you use that contains that extra information. There are a number of possible arguments to `Field`. Here we use `ge`, short for \"greater than or equal to,\" to impose the constraint that the `window_size` be larger greater than or equal to 2. The `Field` class from `pydantic` is somewhat similar to the [`field` class from Python's data classes](https://docs.python.org/3/library/dataclasses.html#dataclasses.field) which also serves the purpose of adding information about a typed field.\n",
    "\n",
    "In the cell below we define a pydantic model that imposes the constraint that the `window_size` must be greater than or equal to 2. It does that by annotating the `window_size` type, `int`, with `Field(ge=2)`."
   ]
  },
  {
   "cell_type": "code",
   "execution_count": null,
   "metadata": {},
   "outputs": [],
   "source": [
    "from typing import Annotated\n",
    "from pydantic import Field\n",
    "\n",
    "class DataSelectorModelDraft4(BaseModel, validate_assignment=True):\n",
    "    year_range: tuple[int, int] = (1800, 2000)\n",
    "    window_size: Annotated[int, Field(ge=2)] = 2\n",
    "    polynomial_order: int = 1"
   ]
  },
  {
   "cell_type": "markdown",
   "metadata": {},
   "source": [
    "Let's test this by creating an instance and setting the `window_size` to an integer value that should not be allowed."
   ]
  },
  {
   "cell_type": "code",
   "execution_count": null,
   "metadata": {},
   "outputs": [],
   "source": [
    "selector_pyd_simple4 = DataSelectorModelDraft4()\n",
    "\n",
    "selector_pyd_simple4.window_size = 0"
   ]
  },
  {
   "cell_type": "markdown",
   "metadata": {},
   "source": [
    "Recall that the `window_size` also had an upper limit of 100 in the earlier dashboard we are trying to reproduce. This version of the class adds that upper limit also."
   ]
  },
  {
   "cell_type": "code",
   "execution_count": null,
   "metadata": {},
   "outputs": [],
   "source": [
    "class DataSelectorModelDraft5(BaseModel, validate_assignment=True):\n",
    "    year_range: tuple[int, int] = (1800, 2000)\n",
    "    window_size: Annotated[int, Field(ge=2, le=100)] = 2\n",
    "    polynomial_order: int = 1"
   ]
  },
  {
   "cell_type": "markdown",
   "metadata": {},
   "source": [
    "### Exercise\n",
    "\n",
    "Add a constraint on the `polynomial_order` that requires is to be greater than or equal to 1 and less than or equal to 10."
   ]
  },
  {
   "cell_type": "code",
   "execution_count": null,
   "metadata": {},
   "outputs": [],
   "source": [
    "#TODO write answer "
   ]
  },
  {
   "cell_type": "markdown",
   "metadata": {},
   "source": [
    "With these changes we have some of the constraints we want. \n",
    "\n",
    "There is one more thing we need to do: the polynomial order should be less than the window size in addition to being 10 or smaller.\n",
    "\n",
    "To do that we will add a *model validator* to our pydantic class. The model validator has access to all of the proposed model values and can check them in whatever way it wants. If the values are acceptable then the method returns `self`. If the values are not acceptable then the validator should raise a `ValueError`.\n",
    "\n",
    "A draft class with the model validator is below."
   ]
  },
  {
   "cell_type": "code",
   "execution_count": null,
   "metadata": {},
   "outputs": [],
   "source": [
    "#| export\n",
    "\n",
    "from typing import Annotated\n",
    "from pydantic import model_validator, BaseModel, Field"
   ]
  },
  {
   "cell_type": "code",
   "execution_count": null,
   "metadata": {},
   "outputs": [],
   "source": [
    "#| export\n",
    "\n",
    "class DataSelectorModelDraft6(BaseModel, validate_assignment=True):\n",
    "    year_range: tuple[int, int] = (1800, 2000)\n",
    "    window_size: Annotated[int, Field(ge=2, le=100)] = 2\n",
    "    polynomial_order: Annotated[int, Field(ge=1, le=10)] = 1\n",
    "\n",
    "    # mode=\"after\" means the validator runs after pydantic has checked that the individual\n",
    "    # fields have values that are valid.\n",
    "    @model_validator(mode=\"after\")\n",
    "    def limit_polynomial_order(self):\n",
    "        \n",
    "        if self.polynomial_order > self.window_size - 1:\n",
    "            # Handle a bad polynomial order or window size\n",
    "            raise ValueError(\"Polynomial order must be smaller than window size\")\n",
    "            \n",
    "        # If we got this far the polynomial order is consistent with the window size\n",
    "        # so return self. Failing to return self will end up causing an error.\n",
    "        return self"
   ]
  },
  {
   "cell_type": "markdown",
   "metadata": {},
   "source": [
    "### Exercise\n",
    "\n",
    "1. Check whether the new validation works by creating a valid `DataSelectorModelDraft6` and then trying to set the `polynomial_order` or `window_size` to inconsistent values. "
   ]
  },
  {
   "cell_type": "code",
   "execution_count": null,
   "metadata": {},
   "outputs": [],
   "source": [
    "DataSelectorModelDraft6()"
   ]
  },
  {
   "cell_type": "markdown",
   "metadata": {},
   "source": [
    "## Another benefit of pydantic: easy to save to a file"
   ]
  },
  {
   "cell_type": "markdown",
   "metadata": {},
   "source": [
    "One additional benefit of using pydantic to model our control is that pydantic classes come with easy conversion to json, which is in turn easy to save to disk.\n",
    "\n",
    "We make a model in the cell below."
   ]
  },
  {
   "cell_type": "code",
   "execution_count": null,
   "metadata": {},
   "outputs": [],
   "source": [
    "model = DataSelectorModelDraft6()"
   ]
  },
  {
   "cell_type": "markdown",
   "metadata": {},
   "source": [
    "We can convert this model to a few different forms:\n",
    "\n",
    "+ The `model_dump` method converts the pydantic model to a dictionary of values.\n",
    "+ The `model_dump_json` method converts the pydantice model to json with the model's values.\n",
    "+ The `model_json_schema` method produces a json schema for the model, which is a description of the model and its restrictions."
   ]
  },
  {
   "cell_type": "code",
   "execution_count": null,
   "metadata": {},
   "outputs": [],
   "source": [
    "print(model.model_dump())"
   ]
  },
  {
   "cell_type": "code",
   "execution_count": null,
   "metadata": {},
   "outputs": [],
   "source": [
    "# the indent argument causes the json to have line breaks, with the indentation\n",
    "# of each new level given by indent\n",
    "print(model.model_dump_json(indent=2))"
   ]
  },
  {
   "cell_type": "code",
   "execution_count": null,
   "metadata": {},
   "outputs": [],
   "source": [
    "model.model_json_schema()"
   ]
  },
  {
   "cell_type": "markdown",
   "metadata": {},
   "source": [
    "You might not be surprised to learn that you can also create a model instance from json. In the cell below, we take the json from `model` and use it to create a new instance.\n",
    "\n",
    "To do that you use the class method `model_validate_json` to make the model."
   ]
  },
  {
   "cell_type": "code",
   "execution_count": null,
   "metadata": {},
   "outputs": [],
   "source": [
    "model_json = model.model_dump_json()\n",
    "\n",
    "# Use the class method model_validate_json to make a new model\n",
    "new_model = DataSelectorModelDraft6.model_validate_json(model_json)\n",
    "\n",
    "new_model"
   ]
  },
  {
   "cell_type": "code",
   "execution_count": null,
   "metadata": {},
   "outputs": [],
   "source": [
    "with open(\"my_selections.json\", \"w\") as f:\n",
    "    f.write(model_json)"
   ]
  },
  {
   "cell_type": "markdown",
   "metadata": {},
   "source": [
    "Though we will not have occasion to use it much in this tutorial, the next cell shows how to load the json from disk make a model from it."
   ]
  },
  {
   "cell_type": "code",
   "execution_count": null,
   "metadata": {},
   "outputs": [],
   "source": [
    "with open(\"my_selections.json\") as f:\n",
    "    disk_json = f.read()\n",
    "\n",
    "DataSelectorModelDraft6.model_validate_json(disk_json)"
   ]
  },
  {
   "cell_type": "markdown",
   "metadata": {},
   "source": [
    "2. Use nbdev to export the code we want to reuse from this notebook "
   ]
  },
  {
   "cell_type": "code",
   "execution_count": null,
   "metadata": {},
   "outputs": [],
   "source": [
    "from nbdev.export import nb_export\n",
    "\n",
    "nb_export('03a_pydantic.ipynb', 'dashboard')"
   ]
  },
  {
   "cell_type": "code",
   "execution_count": null,
   "metadata": {},
   "outputs": [],
   "source": []
  }
 ],
 "metadata": {
  "kernelspec": {
   "display_name": "Python 3 (ipykernel)",
   "language": "python",
   "name": "python3"
  },
  "language_info": {
   "codemirror_mode": {
    "name": "ipython",
    "version": 3
   },
   "file_extension": ".py",
   "mimetype": "text/x-python",
   "name": "python",
   "nbconvert_exporter": "python",
   "pygments_lexer": "ipython3",
   "version": "3.11.9"
  }
 },
 "nbformat": 4,
 "nbformat_minor": 4
}
