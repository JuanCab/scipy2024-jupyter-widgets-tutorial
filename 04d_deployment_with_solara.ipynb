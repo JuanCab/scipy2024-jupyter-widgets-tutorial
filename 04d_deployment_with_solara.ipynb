{
 "cells": [
  {
   "cell_type": "markdown",
   "id": "d88809c4-b011-4bc0-8a71-e90e097716e3",
   "metadata": {},
   "source": [
    "# Deploying widget apps with solara\n",
    "\n",
    "### Goal of this notebook \n",
    "\n",
    "There are a couple of interesting deployment options -- Ploomber and PyCafe -- available with solara that we will discuss. Although having to use solara might seem restrictive, we can turn our earlier dashboards into solara apps with just a couple of lines of code.\n",
    "\n",
    "\n",
    "### Steps you will take in this notebook\n",
    "\n",
    "1. Learn how to turn our previous dashboards into solara apps.\n",
    "2. Learn how to deploy a solara app with ploomber.\n",
    "3. Deploy a solara app to PyCafe."
   ]
  },
  {
   "cell_type": "markdown",
   "id": "2ac530b9-dcf1-4e5d-9229-0f5ca7871e5a",
   "metadata": {},
   "source": [
    "## Making any widget a solara app\n",
    "\n",
    "Since solara is built on ipywidgets, any existing widget can be turned into a solara app. As a first example, let's turn a simple ipywidget -- a dropdown -- into a solara app."
   ]
  },
  {
   "cell_type": "code",
   "execution_count": null,
   "id": "a9eef8a1-0ec3-4afe-80df-3c9e74eff27f",
   "metadata": {},
   "outputs": [],
   "source": [
    "import ipywidgets as widgets\n",
    "import solara"
   ]
  },
  {
   "cell_type": "code",
   "execution_count": null,
   "id": "4034af40-9a52-469a-9848-beeda4eba404",
   "metadata": {},
   "outputs": [],
   "source": [
    "drop = widgets.Dropdown(options=[\"a\", \"b\", \"c\"])"
   ]
  },
  {
   "cell_type": "markdown",
   "id": "56638de1-c5d5-4bdd-91e6-f177f4e7a632",
   "metadata": {},
   "source": [
    "To make this dropdown into a solara app we just need to display the dropdown inside a solara component. By default, solara server will render the object called `Page` so that is what we name our component:"
   ]
  },
  {
   "cell_type": "code",
   "execution_count": null,
   "id": "c5e502de-57da-4e16-9e98-c491353cca90",
   "metadata": {},
   "outputs": [],
   "source": [
    "@solara.component\n",
    "def Page():\n",
    "    solara.display(drop)"
   ]
  },
  {
   "cell_type": "code",
   "execution_count": null,
   "id": "9fbdaf1e-e9ed-4ecc-b58a-1926b839f57b",
   "metadata": {},
   "outputs": [],
   "source": [
    "Page()"
   ]
  },
  {
   "cell_type": "markdown",
   "id": "c111793c-9f98-4a7a-9d13-22cad993719e",
   "metadata": {},
   "source": [
    "Note that solara displays the dropdown as an ipywidgets dropdown rather than as an ipyvuetify widget, since we explicitly asked for an ipywidget dropdown."
   ]
  },
  {
   "cell_type": "markdown",
   "id": "73ee9beb-55ee-4a8a-aa4b-877b2cc99122",
   "metadata": {},
   "source": [
    "**EXERCISE:**\n",
    "\n",
    "Import the first version of the dashboard we made and make it into a solara app. Call the object you make `Page` like we did above."
   ]
  },
  {
   "cell_type": "code",
   "execution_count": null,
   "id": "322b8f73-232d-4602-aea1-f4ccb3327ef3",
   "metadata": {},
   "outputs": [],
   "source": [
    "from dashboard.main import main_widget\n",
    "\n",
    "@solara.component\n",
    "def Page():\n",
    "    # FILL THIS IN"
   ]
  },
  {
   "cell_type": "code",
   "execution_count": null,
   "id": "e8b61836-32af-4940-b2b8-3bdb44f2dc9b",
   "metadata": {},
   "outputs": [],
   "source": [
    "Page()"
   ]
  },
  {
   "cell_type": "markdown",
   "id": "050d5ee9-dcfd-40be-ae20-70ae18912ce1",
   "metadata": {},
   "source": [
    "## Deploying to PyCafe\n",
    "\n",
    "[PyCafe](https://py.cafe) is a web service that utilizes Pyodide to serve up a web app that runs entirely in your browser. There is no Python kernel running in the background, so it scales well. The service is still in beta so you should expect glitches. It is frequently necessary to use the \"System Restart\" menu option to get `scipy` to launch properly, for example. One other thing to be aware of: PyCafe is running in your broswer, so unless you frequently use the \"Push Changes to Cloud\" menu item any changes you have made are lost if your browser page reloads or if you do a \"System Restart\".\n",
    "\n",
    "Two versions of the dashboard in this tutorial have been deployed to PyCafe so that you can take a look at them.\n",
    "\n",
    "+ The pure-solara version of the dashboard is [here](https://py.cafe/mwcraig/solara-global-temp-analysis). The only modifcation necessary was to change the `DATA` folder variable from `data` to `.`, since PyCafe does not let you make folders.\n",
    "+ The initial version of the dashboard is [here](https://py.cafe/mwcraig/plain-widget-2024-dashboard). A couple of modifications were necessary:\n",
    "    + `widgets.py` was renamed to `tutorial_widgets.py`\n",
    "    + `main.py` imports from `tutorial_widgets` instead of `dashboard.widgets` because i) folders are not allowed, and ii) `widgets` would conflict with `import ipywidgets as widgets`.\n",
    "    + The `DATA` folder was changed from `data` to `.`.\n",
    "+ The `ipyautoui` version of the dashboard is not on PyCafe because `ipyautoui` isn't supported (yet?)."
   ]
  },
  {
   "cell_type": "markdown",
   "id": "69451d9e-43c8-4e14-976c-12faff3b237c",
   "metadata": {},
   "source": [
    "## Deploying to Ploomber\n",
    "\n",
    "[Ploomber](https://ploomber.io/) is a service for deploying apps that has support for both voila and solara apps. It is backed by a server, so it will not scale well to a large number of users. A solara app should scale somewhat better than a voila app. In both cases, uploading an app is fairly easy. The solara version of the app is here: https://white-flower-7961.ploomberapp.io\n",
    "\n",
    "Two things were uploaded to make the app:\n",
    "\n",
    "+ `dashboard_solara/app.py`, modified so that `DATA = \".\"` instead of `DATA = \"data\"`\n",
    "+ The CSV data file from the tutorial."
   ]
  }
 ],
 "metadata": {
  "kernelspec": {
   "display_name": "Python 3 (ipykernel)",
   "language": "python",
   "name": "python3"
  },
  "language_info": {
   "codemirror_mode": {
    "name": "ipython",
    "version": 3
   },
   "file_extension": ".py",
   "mimetype": "text/x-python",
   "name": "python",
   "nbconvert_exporter": "python",
   "pygments_lexer": "ipython3",
   "version": "3.11.9"
  }
 },
 "nbformat": 4,
 "nbformat_minor": 5
}
