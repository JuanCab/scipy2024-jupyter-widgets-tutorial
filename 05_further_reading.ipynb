{
 "cells": [
  {
   "cell_type": "markdown",
   "id": "3548e767-4b07-4ece-af3c-e7f094cd9f8c",
   "metadata": {},
   "source": [
    "# Further reading and resources"
   ]
  },
  {
   "cell_type": "markdown",
   "id": "a1434097-0f55-4805-b6f3-2c07a2546fcc",
   "metadata": {},
   "source": [
    "## More about Jupyter widgets\n",
    "\n",
    "+ A SciPy tutorial focused on the core Jupyter widgets and related packages: https://github.com/jupyter-widgets/tutorial\n",
    "+ The [`ipywidgets` documentation](https://ipywidgets.readthedocs.io/en/stable/): https://ipywidgets.readthedocs.io/en/stable/"
   ]
  },
  {
   "cell_type": "markdown",
   "id": "bdaf4729-76f5-440c-a224-2a523b1904ea",
   "metadata": {},
   "source": [
    "## Alternative approaches\n",
    "\n"
   ]
  }
 ],
 "metadata": {
  "kernelspec": {
   "display_name": "Python 3 (ipykernel)",
   "language": "python",
   "name": "python3"
  },
  "language_info": {
   "codemirror_mode": {
    "name": "ipython",
    "version": 3
   },
   "file_extension": ".py",
   "mimetype": "text/x-python",
   "name": "python",
   "nbconvert_exporter": "python",
   "pygments_lexer": "ipython3",
   "version": "3.11.9"
  }
 },
 "nbformat": 4,
 "nbformat_minor": 5
}
