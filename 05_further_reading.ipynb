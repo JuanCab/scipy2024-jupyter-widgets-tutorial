{
 "cells": [
  {
   "cell_type": "markdown",
   "id": "3548e767-4b07-4ece-af3c-e7f094cd9f8c",
   "metadata": {},
   "source": [
    "# Further reading and resources"
   ]
  },
  {
   "cell_type": "markdown",
   "id": "a1434097-0f55-4805-b6f3-2c07a2546fcc",
   "metadata": {},
   "source": [
    "## More about Jupyter widgets\n",
    "\n",
    "+ A SciPy 2002 tutorial focused on the [core Jupyter widgets and related packages](https://github.com/jupyter-widgets/tutorial)\n",
    "    + The folder notebooks/03.Widget_events has a step by step example of using a pure widget/traitlets approach that is a little different than what is outlined in this tutorial.\n",
    "+ The [`ipywidgets` documentation](https://ipywidgets.readthedocs.io/en/stable/): https://ipywidgets.readthedocs.io/en/stable/\n",
    "+ There a lot of widget packages available. A good list is [here](https://github.com/nicole-brewer/awesome-jupyter-widgets)."
   ]
  },
  {
   "cell_type": "markdown",
   "id": "bdaf4729-76f5-440c-a224-2a523b1904ea",
   "metadata": {},
   "source": [
    "## Alternative approaches\n",
    "\n",
    "+ [anywidget](https://anywidget.dev/) gives you lots of flexibility to make custom widgets using some javascript without the usual overhead of making a javascript-based widget. They also presented a [tutorial in the morning session](https://github.com/manzt/scipy-2024-anywidget), it is worth checking out!\n",
    "+ [Panel](https://panel.holoviz.org/) allows you to construct interactive dashboards in Python. Another tutorial this morning was [hvPlot and Panel: Easy data visualization, data exploration, and data apps](https://holoviz.org/tutorial/). It is also worth a look!"
   ]
  }
 ],
 "metadata": {
  "kernelspec": {
   "display_name": "Python 3 (ipykernel)",
   "language": "python",
   "name": "python3"
  },
  "language_info": {
   "codemirror_mode": {
    "name": "ipython",
    "version": 3
   },
   "file_extension": ".py",
   "mimetype": "text/x-python",
   "name": "python",
   "nbconvert_exporter": "python",
   "pygments_lexer": "ipython3",
   "version": "3.11.9"
  }
 },
 "nbformat": 4,
 "nbformat_minor": 5
}
