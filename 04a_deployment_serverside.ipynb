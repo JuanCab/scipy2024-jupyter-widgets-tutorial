{
 "cells": [
  {
   "cell_type": "markdown",
   "id": "06a0236b-3c68-4156-a4ab-d44f241284c5",
   "metadata": {},
   "source": [
    "# Deploying Your Dashboard: Server-Side Processing Options"
   ]
  },
  {
   "cell_type": "markdown",
   "id": "c923d722-0b2c-42ba-b3c0-2e0676ffc81f",
   "metadata": {},
   "source": [
    "So now we have all the components in our dashboard, but we want it to be more accessible to the world. How do we approach this?"
   ]
  },
  {
   "cell_type": "markdown",
   "id": "40009c80-37b1-494d-b50e-45b92ff6d003",
   "metadata": {},
   "source": [
    "## Client-Server Architecture Overview\n",
    "\n",
    "Jupyter Notebook operates on a server-client architecture, where the server runs the computational environment, and the client is the web interface through which users interact with the server. \n",
    "\n",
    "**Server side options**: The longest-standing deployment options require that the Jupyter kernel run on a server, which can be hosted locally on your machine or remotely.\n",
    "\n",
    "**Client side options**: \"serverless\" options can be deployed as static websites, where all of the computation is achieved through HTML and JavaScript.\n",
    "\n",
    "We wil also discuss **other options** that fall outside these lines, but the rest of this notebook is about server-side deployment."
   ]
  },
  {
   "cell_type": "markdown",
   "id": "0883914b-fbf1-42c8-aa4f-bd97d832d0c9",
   "metadata": {},
   "source": [
    "## Server-side Deployment with Voilà\n",
    "\n",
    "[Voilà](https://github.com/Voilà-dashboards/Voilà) turns Jupyter notebooks into standalone web applications. But how? Basically, it renders your notebook without actually showing the code cells. It only shows markdown cells and the widget outputs. This also makes sure your user can't run arbitrary code.\n",
    "\n",
    "### Preview\n",
    "\n",
    "First, let's make sure we have dashboard_01.ipynb open to the side. Now, lets use the Voilà preview button to see a preview of what our app will look like fully deployed.\n",
    "\n",
    "Notice the \"refresh\" button and the \"render on save\" option. Oftentimes, we want to see the preview as we are developing."
   ]
  },
  {
   "cell_type": "markdown",
   "id": "94db277d-369d-4967-af0e-37d83b77fb21",
   "metadata": {},
   "source": [
    "### Launching Voilà server from the command line"
   ]
  },
  {
   "cell_type": "markdown",
   "id": "90014d83-fa48-4604-b76c-80b6529590d8",
   "metadata": {},
   "source": [
    "It will take a minute or so to run the cell below. That's because a server is being rendered that Voilà will run in. It should open in a new tab for us."
   ]
  },
  {
   "cell_type": "code",
   "execution_count": null,
   "id": "d20d81b1-5a4a-4a5f-a287-bf325e68d281",
   "metadata": {},
   "outputs": [],
   "source": [
    "%%bash\n",
    "\n",
    "voila 02d_dashboard_test.ipynb"
   ]
  },
  {
   "cell_type": "markdown",
   "id": "9664d107-1708-4d61-9f48-38a534f0d8ec",
   "metadata": {},
   "source": [
    "## Binder\n",
    "\n",
    "Okay, all that is well and good, but what if I want to share my app with someone without them having to install the whole thing to their computer? Enter Binder. Binder is a free service provided by NumFocus. With Binder, you can open a GitHub repository full of notebooks in an executable environment, making your code immediately reproducible by anyone, anywhere.\n",
    "\n",
    "For the sake of variety, we will try out Binder with a network analysis app Nicole's student made that can be found at [Jupyter4Science/network-visualization-dashboard](https://github.com/Jupyter4Science/network-visualization-dashboard).\n"
   ]
  },
  {
   "attachments": {},
   "cell_type": "markdown",
   "id": "d2b89e92-41a3-4a4d-9ade-47fe085c6670",
   "metadata": {},
   "source": [
    "## How to use Binder\n",
    "\n",
    "1. Go to [mybinder.org](https://mybinder.org)\n",
    "2. Enter in the name of a GitHub repository or URL. In this case, https://github.com/Jupyter4Science/network-visualization-dashboard.\n",
    "3. Expand the text and paste it to show a binder badge\n",
    "\n",
    "\n",
    "\n",
    "![](static/binder-example.png)"
   ]
  },
  {
   "cell_type": "markdown",
   "id": "7ecff24b-6ffd-41c4-9263-f076c8f3070a",
   "metadata": {},
   "source": [
    "## Using Binder and Voilà together\n",
    "\n",
    "Binder makes it really easy to launch a notebook from Voilà instead of JupyterLab. The steps are the same as before, except we will use `Path to a notebook file` option to specify that we want to launch a particular notebook with Voilà. We will format the path to a notebook as such: `voila/render/path/to/notebook.ipynb`. In this case, we want to launch our dashboard notebook `WebApp_clean.ipynb`.\n",
    "\n",
    "![](static/binder-voila.png)\n",
    "\n",
    "### Steps\n",
    "\n",
    "1. Go to [mybinder.org](https://mybinder.org)\n",
    "2. Enter the repository URL: https://github.com/Jupyter4Science/network-visualization-dashboard\n",
    "3. Specify the path to notebook as `voila/render/WebApp_clean.ipynb`\n",
    "4. **Use the dropdown to select the URL option**\n",
    "5. Expand the accordion so you can see and copy the text for the badge\n",
    "6. Paste it into the markdown cell below"
   ]
  },
  {
   "cell_type": "markdown",
   "id": "c2adc70a-512a-4546-bc32-04bbcb9e601d",
   "metadata": {},
   "source": [
    "### Binder Badge for Dashboard"
   ]
  },
  {
   "cell_type": "markdown",
   "id": "9d7c87a1-ecd8-416e-9e14-01bb02e4fc85",
   "metadata": {},
   "source": [
    "Paste the text here: "
   ]
  },
  {
   "cell_type": "markdown",
   "id": "28b98ba8-3509-4c9c-b797-9052b6ccb937",
   "metadata": {},
   "source": [
    "Now click on it and see what happens."
   ]
  },
  {
   "cell_type": "markdown",
   "id": "ef874680-8c54-4641-80fa-17e5f8d83370",
   "metadata": {},
   "source": [
    "## Running Voilà in a Docker Container\n",
    "\n",
    "In this section we will learn how to deploy Voilà using Docker. We will use an example dashboard from a template project - [rcpurdue/nbtmpl](https://github.com/rcpurdue/nbtmpl) - that inspired the dashboard we just built in this tutorial.\n",
    "\n",
    "> NOTE: The Docker build process is time consuming, so we do not expect you to actually run through the build process. Rather, we want to familiarize you with your deployment options so you can learn more on your own time. That said, the following is a working example and we will leave you with an exercise if you want to try it for yourself with the codebase you have created in this tutorial.\n",
    "\n",
    "**Docker** is a platform that uses containerization to allow developers to package applications and their dependencies into portable containers that can run consistently across different environments. Docker can be used with service providers to quickly deploy single servers hosting Voilà.\n",
    "\n",
    "**Dockerfile** is a script containing a series of instructions on how to build a Docker image, specifying the base image, dependencies, configurations, and the application itself.\n",
    "\n",
    "Our goal here is to create and understand a standalone Dockerfile that automatically deploys our Voilà server.\n",
    "\n",
    "Note that the Dockerfile and build command are written in such a way that having **a local clone of the entire tutorial repository is not required**. Rather, the repository is cloned by Docker upon build. That is so that if we just want to deploy the our app with a service provider, **we need only provide a Dockerfile**.\n"
   ]
  },
  {
   "cell_type": "markdown",
   "id": "827a37cd-f520-4bae-b63e-36504c27a865",
   "metadata": {},
   "source": [
    "### Dockerfile"
   ]
  },
  {
   "cell_type": "code",
   "execution_count": null,
   "id": "8d395fb2-eebc-4db1-8809-603ba27971f2",
   "metadata": {},
   "outputs": [],
   "source": [
    "%load Dockerfile"
   ]
  },
  {
   "cell_type": "markdown",
   "id": "396add5d",
   "metadata": {},
   "source": [
    "### Docker Build Command\n",
    "\n",
    "The following command is used to build a Docker image from a Dockerfile.\n",
    "```bash\n",
    "docker build -t voila-dashboard --build-arg repourl=https://github.com/Jupyter4Science/scipy2024-jupyter-widgets-tutorial.git .\n",
    "```\n",
    "\n",
    "`-t voila-dashboard`: The -t option tags the image with a name. In this case, the image is tagged as voila-dashboard. This tag makes it easier to reference the image later, such as when running a container.\n",
    "\n",
    "`--build-arg repourl=https://github.com/rcpurdue/nbtmpl.git`: The --build-arg option allows you to pass build-time variables to the Dockerfile. Here, repourl is set to https://github.com/rcpurdue/nbtmpl.git. This argument is used in the Dockerfile to specify the repository URL that should be cloned during the build process.\n",
    "\n",
    "`.` (dot): The dot at the end of the command specifies the build context, which is the current directory. Docker will use the files in this directory, including the Dockerfile, to build the image.\n",
    "\n",
    "Note that this Dockerfile and build command are written in such a way that having a local clone of the entire tutorial repository is not required. Rather, the repository is cloned by Docker upon build. This is so that if we just want to deploy the our app with a service, we need only provide a Dockerfile. "
   ]
  },
  {
   "cell_type": "markdown",
   "id": "5d59bbaa-5612-4eb8-9fc2-3caf51e69902",
   "metadata": {},
   "source": [
    "### Takehome Exercise\n",
    "\n",
    "**Goal**: Build our Dockerfile and run the image on our local machine. Access our Voilà app in our browser.\n",
    "\n",
    "> WARNING: This can take anywhere from 3-15 minutes. The first time you build a container takes the longest. Repeat build reuses build steps when possible.\n",
    "\n",
    "1. [Install Docker](https://docs.docker.com/engine/install/ubuntu/#install-using-the-repository). Note that you may need admin access to run Docker commands.\n",
    "2. Start a command line (terminal) session.\n",
    "3. Make sure Docker is downloaded ***and running*** by executing `docker info`. "
   ]
  },
  {
   "cell_type": "code",
   "execution_count": null,
   "id": "68a5e7e3-1475-441f-bf51-0c1e51f0a114",
   "metadata": {},
   "outputs": [],
   "source": [
    "%%bash\n",
    "docker info"
   ]
  },
  {
   "cell_type": "markdown",
   "id": "23bef327-3227-4ec0-9811-a36eb6d5a7b8",
   "metadata": {},
   "source": [
    "If the Docker daemon is not running, you may get an error like `Cannot connect to the Docker daemon at unix:///var/run/docker.sock. Is the docker daemon running?`. \n",
    "\n",
    "If you have Docker Desktop installed, you can start it by opening the Docker Desktop application. If you are using linux, you can use `sudo systemctl start docker`"
   ]
  },
  {
   "cell_type": "code",
   "execution_count": null,
   "id": "7aaa5fe9-8f5e-4bcc-bcb6-0f0ebeeb99f5",
   "metadata": {},
   "outputs": [],
   "source": [
    "%%bash \n",
    "\n",
    "# DO NOT UNCOMMENT: unless you have Docker already installed and you want to build a container\n",
    "#docker build -t voila-dashboard --build-arg repourl=https://github.com/rcpurdue/nbtmpl ."
   ]
  },
  {
   "cell_type": "markdown",
   "id": "d98d9ef9-6b6c-42bd-a829-4bf5a2a2e5da",
   "metadata": {},
   "source": [
    "5. Run the image called \"voila-dashboard\""
   ]
  },
  {
   "cell_type": "code",
   "execution_count": null,
   "id": "9707699f-fd46-409f-ae40-42aa5ef8b2c4",
   "metadata": {},
   "outputs": [],
   "source": [
    "%%bash\n",
    "\n",
    "# DO NOT UNCOMMENT: unless you have Docker already installed and you want to build a container\n",
    "# docker run -p 8866:8866 voila-dashboard"
   ]
  },
  {
   "cell_type": "markdown",
   "id": "48216069-3555-4898-aed1-352605a62d1d",
   "metadata": {},
   "source": [
    "The `-p` flag in the docker run command is used to publish a container's port to the host machine, allowing external access to services running inside the container.\n",
    "\n",
    "In the command `docker run -p 8866:8866 voila-dashboard`, the `-p 8866:8866` part maps port 8866 of the host machine to port 8866 of the container. This makes the next step possible.\n",
    "\n",
    "6. Open your Voilà app in your browser by visiting http://localhost:8866."
   ]
  },
  {
   "cell_type": "markdown",
   "id": "3ec2a42c-6b0a-4924-b827-b65a0dedbd19",
   "metadata": {},
   "source": [
    "### High-Level Instructions for Deploying Voilà with a Service Provider\n",
    "\n",
    "If you wish to achieve the same result with a service provider, things get a little more tricky because of the firewalls and permissions that need to be set up to access Voilà through the public IP. This step may be more comfortable for you if you have experience running Linux servers. Because service providers will have different processess for setting up such a server, we will just outline the broad strokes.\n",
    "\n",
    "#### Use a Dockerfile or set up Voilà manually\n",
    "\n",
    "Some composible services support starting images directly from Dockerfiles, while others may require you to log into the node to install Docker, use [`scp`](https://www.geeksforgeeks.org/scp-command-in-linux-with-examples/) to transer your Dockerfile, and build your container for yourself. Another option is to set up Voilà to be running 'headless' on a server and to respond to web queries.\n",
    "\n",
    "#### Configure Security Settings: Security Groups, Firewalls, and SSL Certificates\n",
    "\n",
    "Set up security groups or firewall rules to allow inbound traffic on the port you will be using (e.g., port 8866 for Voilà). Ensure that SSH access (port 22) is also allowed so you can manage your server. SSH access also requires setting up a key pair. Generate SSL certificates manually or use a service like [Let's Encrypt](https://letsencrypt.org/) to enable HTTPS.\n",
    "\n",
    "#### Create and Attach a Floating Public IP\n",
    "\n",
    "Allocate a floating public IP address for your virtual machine. It may be neccesary to attach the allocated public IP to your virtual machine instance to enable access from the internet.\n",
    "\n",
    "#### Access Your Application\n",
    "\n",
    "Once Voilà is running and ports are properly configured, you can access your Voilà dashboard through the public IP address of your virtual machine (e.g., `http://<public-ip>:8866`).\n",
    "\n",
    "#### Service-specific documentation\n",
    "\n",
    "The folks from Voilà [provide deployment instructions in the documentation](https://voila.readthedocs.io/en/stable/deploy.html). "
   ]
  },
  {
   "cell_type": "markdown",
   "id": "47f0f7b2-3683-48dc-9d46-be3f242756e9",
   "metadata": {},
   "source": [
    "### Other Considerations for running Voilà on a publicly accessible server\n",
    "\n",
    "- **Serving a Single Document or an Entire Directory**: You can serve a single notebook or an entire directory of notebooks with Voilà.\n",
    "  - Serving a single notebook is easier as you can set up a single Voilà process to serve the notebook.\n",
    "  - If you serve a directory:\n",
    "    - Voilà will create a landing page with links to each notebook. You can also create an index notebook that serves as a landing page for your dashboard.  We have successfully used a redirect from an apache/nginx web server landing page to the Voilà index notebook.\n",
    "    - For your visitors to be able to access multiple notebooks, you MUST serve the entire directory with Voilà.  - Each notebook visited will be a separate Voilà instance, so you will need to consider the memory and CPU requirements of your server.\n",
    "- **Memory**: Voilà processes can sometimes have memory leaks and can sometimes crash.  Its probably a good idea to have inactive sessions self terminate. Furthermore, one of us has used a cronjob to restart Voilà every minute after checking if it is still running.  The Voilà instructions do provide some guidance on how to set up a systemd service to run Voilà and keep it running.\n",
    "- **Load**: If you have multiple simultaneous users, you will want to make sure you have a robust server to handle the load.\n",
    "- **Security**: Voilà had some security issues that were fixed in version 0.5.6. Make sure you are running a version that is at least that new. As with any publicly-facing server, you will want to make sure you are keeping up with security patches.  The Voilà documentation seemingly assumes you are running Voilà as a standalone server, and runs it as root.  You *can* run Voilà as a non-root user, but you will need to be familiar with Linux permissions."
   ]
  }
 ],
 "metadata": {
  "kernelspec": {
   "display_name": "Python 3 (ipykernel)",
   "language": "python",
   "name": "python3"
  }
 },
 "nbformat": 4,
 "nbformat_minor": 5
}
