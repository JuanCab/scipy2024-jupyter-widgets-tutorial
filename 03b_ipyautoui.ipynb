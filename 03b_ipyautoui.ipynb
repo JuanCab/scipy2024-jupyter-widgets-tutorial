{
 "cells": [
  {
   "cell_type": "markdown",
   "metadata": {},
   "source": [
    "# Introduction to ipyautoui\n",
    "\n",
    "ipyautoui is a Python package that provides a simple way to create interactive user interfaces in Jupyter notebooks. It is built on top of Jupyter widgets and Pydantic and provides a higher-level API for creating interactive widgets.  It is particularly well suited for creating settings panels.\n",
    "\n",
    "\n",
    "## TO DO IN THIS NOTEBOOK\n",
    "- [ ] Add a brief description of the package and its history?\n",
    "- [ ] Show how to use ipyautoui to create a simple settings panel relatively quickly\n",
    "  - [ ] Mention the active development of the package and the fact that it is still a bit buggy\n",
    "  - [ ] Mention other features of Pydantic that may be relevant to our dashboard\n",
    "- [ ] Have them replace existing settings widgets with control widget generated with ipyautoui\n",
    "- [ ] Connect new control widget to dashboard"
   ]
  },
  {
   "cell_type": "markdown",
   "metadata": {},
   "source": [
    "# APPARENTLY WE CANT EXPORT FROM TWO NOTEBOOKS"
   ]
  },
  {
   "cell_type": "code",
   "execution_count": null,
   "metadata": {},
   "outputs": [],
   "source": [
    "#| default_exp widgets_pydantic"
   ]
  },
  {
   "cell_type": "markdown",
   "metadata": {},
   "source": [
    "## Making a widget with ipyautoui takes a couple of steps\n",
    "\n",
    "1. Define a pydantic model (or write a jason schema)\n",
    "2. Feed the model to AutoUi\n",
    "3. You get back a widget! With a value! Whose value is easy to save!"
   ]
  },
  {
   "cell_type": "markdown",
   "metadata": {},
   "source": [
    "## An example\n",
    "\n",
    "### Exercise\n",
    "\n",
    "In the cell below, create a pydantic model called `SimpleModel` with one field, called `window_size`, that is an integer."
   ]
  },
  {
   "cell_type": "code",
   "execution_count": null,
   "metadata": {},
   "outputs": [],
   "source": [
    "#TODO move to answers \n",
    "from pydantic import BaseModel\n",
    "\n",
    "class SimpleModel(BaseModel):\n",
    "    window_size : int"
   ]
  },
  {
   "cell_type": "markdown",
   "metadata": {},
   "source": [
    "To make a widget from this, run the cell below. `AutoUi` takes in the pydantic model and turns it into a widget. Note that it is the class itself, not an instance of the class, that is the argument to `AutoUi`."
   ]
  },
  {
   "cell_type": "code",
   "execution_count": null,
   "metadata": {},
   "outputs": [],
   "source": [
    "from ipyautoui import AutoUi\n",
    "\n",
    "ui = AutoUi(SimpleModel)"
   ]
  },
  {
   "cell_type": "markdown",
   "metadata": {},
   "source": [
    "Run the cell below to display the widget and try changing its value. Note that you can only type numbers (with out decimals) into the box. "
   ]
  },
  {
   "cell_type": "code",
   "execution_count": null,
   "metadata": {},
   "outputs": [],
   "source": [
    "ui"
   ]
  },
  {
   "cell_type": "markdown",
   "metadata": {},
   "source": [
    "### Attributes and methods of an AutoUi generated widget\n",
    "\n",
    "A couple of attributes of the auto-generated widget are useful to know about. \n",
    "\n",
    "1. `di_widgets` -- dictionary of widgets, one widget for each pydantic field.\n",
    "2. `value` -- dictionary of values, one key and value for each pydantic field.\n",
    "\n",
    "Though one could use `di_widgets` to display the widget for a field outside the auto-generated widget, that is rarely useful. It is sometimes handy, though, to explore the properties of that widget."
   ]
  },
  {
   "cell_type": "code",
   "execution_count": null,
   "metadata": {},
   "outputs": [],
   "source": [
    "ui.di_widgets"
   ]
  },
  {
   "cell_type": "markdown",
   "metadata": {},
   "source": [
    "In this case, `AutoUi` is representing the `int` in our model with an `IntText` widget."
   ]
  },
  {
   "cell_type": "markdown",
   "metadata": {},
   "source": [
    "The `value` for an `AutoUi`-generated widget is a dictionary. The keys are the fields defined in the pydantic model and the values are the current value of that field."
   ]
  },
  {
   "cell_type": "code",
   "execution_count": null,
   "metadata": {},
   "outputs": [],
   "source": [
    "ui.value"
   ]
  },
  {
   "cell_type": "markdown",
   "metadata": {},
   "source": [
    "You can set the value, like with any other widget:"
   ]
  },
  {
   "cell_type": "code",
   "execution_count": null,
   "metadata": {},
   "outputs": [],
   "source": [
    "ui.value = {\"window_size\": 11}"
   ]
  },
  {
   "cell_type": "markdown",
   "metadata": {},
   "source": [
    "The value can also be observed, though there is a twist -- it is `_value` that you observe, not `value. The observer below simply prints the value of the widget.\n"
   ]
  },
  {
   "cell_type": "code",
   "execution_count": null,
   "metadata": {},
   "outputs": [],
   "source": [
    "def print_value(change):\n",
    "    print(f\"{change['new']=}\")"
   ]
  },
  {
   "cell_type": "code",
   "execution_count": null,
   "metadata": {},
   "outputs": [],
   "source": [
    "# NOTE that we are observing changes in _value rather than value\n",
    "ui.observe(print_value, \"_value\")"
   ]
  },
  {
   "cell_type": "markdown",
   "metadata": {},
   "source": [
    "### Exercise\n",
    "\n",
    "Change the value of `ui` in the cell below and confirm that you get the message you expect."
   ]
  },
  {
   "cell_type": "code",
   "execution_count": null,
   "metadata": {},
   "outputs": [],
   "source": []
  },
  {
   "cell_type": "code",
   "execution_count": null,
   "metadata": {},
   "outputs": [],
   "source": [
    "ui.value = {\"window_size\": 81}"
   ]
  },
  {
   "cell_type": "code",
   "execution_count": null,
   "metadata": {},
   "outputs": [],
   "source": [
    "ui.value = {\"window_size\": 84}"
   ]
  },
  {
   "cell_type": "markdown",
   "metadata": {},
   "source": [
    "Add contraint to window size, one constraint at a time, to see how they affect the widget that is generated."
   ]
  },
  {
   "cell_type": "code",
   "execution_count": null,
   "metadata": {},
   "outputs": [],
   "source": [
    "from typing import Annotated\n",
    "from pydantic import Field\n",
    "\n",
    "class SimpleModel2(BaseModel):\n",
    "    window_size : Annotated[int, Field(gt=1)]"
   ]
  },
  {
   "cell_type": "code",
   "execution_count": null,
   "metadata": {},
   "outputs": [],
   "source": [
    "ui2 = AutoUi(SimpleModel2)\n",
    "ui2"
   ]
  },
  {
   "cell_type": "markdown",
   "metadata": {},
   "source": [
    "Oh my! Apparently the widget is sort of ok with values that are not consistent with the pydantic model."
   ]
  },
  {
   "cell_type": "code",
   "execution_count": null,
   "metadata": {},
   "outputs": [],
   "source": [
    "ui2.di_widgets"
   ]
  },
  {
   "cell_type": "code",
   "execution_count": null,
   "metadata": {},
   "outputs": [],
   "source": [
    "class SimpleModel3(BaseModel):\n",
    "    window_size : Annotated[int, Field(ge=2, json_schema_extra=dict(autoui='ipywidgets.BoundedIntText'))]"
   ]
  },
  {
   "cell_type": "code",
   "execution_count": null,
   "metadata": {},
   "outputs": [],
   "source": [
    "ui3 = AutoUi(SimpleModel3)\n",
    "ui3"
   ]
  },
  {
   "cell_type": "code",
   "execution_count": null,
   "metadata": {},
   "outputs": [],
   "source": [
    "ui3.di_widgets"
   ]
  },
  {
   "cell_type": "markdown",
   "metadata": {},
   "source": [
    "## NEED MORE INTRO BEFORE WE DO THIS"
   ]
  },
  {
   "cell_type": "code",
   "execution_count": null,
   "metadata": {},
   "outputs": [],
   "source": [
    "from ipyautoui import AutoUi\n",
    "from dashboard.widgets_pydantic import DataSelectorModelDraft6"
   ]
  },
  {
   "cell_type": "code",
   "execution_count": null,
   "metadata": {},
   "outputs": [],
   "source": [
    "controls = AutoUi(DataSelectorModelDraft6)"
   ]
  },
  {
   "cell_type": "code",
   "execution_count": null,
   "metadata": {},
   "outputs": [],
   "source": [
    "controls"
   ]
  },
  {
   "cell_type": "code",
   "execution_count": null,
   "metadata": {},
   "outputs": [],
   "source": [
    "from pydantic import BaseModel, Field, model_validator\n",
    "from typing import Annotated"
   ]
  },
  {
   "cell_type": "code",
   "execution_count": null,
   "metadata": {},
   "outputs": [],
   "source": [
    "#| export\n",
    "\n",
    "class DataSelectorModel(BaseModel, validate_assignment=True):\n",
    "    year_range: Annotated[\n",
    "        tuple[int, int],\n",
    "        Field(json_schema_extra=dict(autoui='ipywidgets.IntRangeSlider'))\n",
    "    ] = (1800, 2000)\n",
    "    window_size: Annotated[int, Field(ge=2, le=100, json_schema_extra=dict(autoui='ipywidgets.BoundedIntText'))] = 2\n",
    "    polynomial_order: Annotated[int, Field(ge=1, le=10)] = 1\n",
    "\n",
    "    # mode=\"after\" means the validator runs after pydantic has checked that the individual\n",
    "    # fields have values that are valid.\n",
    "    @model_validator(mode=\"after\")\n",
    "    def limit_polynomial_order(self):\n",
    "        \n",
    "        if self.polynomial_order > self.window_size - 1:\n",
    "            # Handle a bad polynomial order or window size\n",
    "            raise ValueError(\"Polynomial order must be smaller than window size\")\n",
    "            \n",
    "        # If we got this far the polynomial order is consistent with the window size\n",
    "        # so return self. Failing to return self will end up causing an error.\n",
    "        return self"
   ]
  },
  {
   "cell_type": "code",
   "execution_count": null,
   "metadata": {},
   "outputs": [],
   "source": [
    "DataSelectorModel.model_json_schema()"
   ]
  },
  {
   "cell_type": "code",
   "execution_count": null,
   "metadata": {},
   "outputs": [],
   "source": [
    "ui = AutoUi(DataSelectorModel)\n",
    "ui"
   ]
  },
  {
   "cell_type": "code",
   "execution_count": null,
   "metadata": {},
   "outputs": [],
   "source": [
    "ui.value"
   ]
  },
  {
   "cell_type": "code",
   "execution_count": null,
   "metadata": {},
   "outputs": [],
   "source": [
    "ui.di_widgets"
   ]
  },
  {
   "cell_type": "code",
   "execution_count": null,
   "metadata": {},
   "outputs": [],
   "source": [
    "from ipyautoui import demo\n",
    "demo()"
   ]
  },
  {
   "cell_type": "code",
   "execution_count": null,
   "metadata": {},
   "outputs": [],
   "source": [
    "from nbdev.export import nb_export\n",
    "\n",
    "nb_export('03b_ipyautoui.ipynb', 'dashboard')"
   ]
  },
  {
   "cell_type": "code",
   "execution_count": null,
   "metadata": {},
   "outputs": [],
   "source": []
  }
 ],
 "metadata": {
  "kernelspec": {
   "display_name": "Python 3 (ipykernel)",
   "language": "python",
   "name": "python3"
  },
  "language_info": {
   "codemirror_mode": {
    "name": "ipython",
    "version": 3
   },
   "file_extension": ".py",
   "mimetype": "text/x-python",
   "name": "python",
   "nbconvert_exporter": "python",
   "pygments_lexer": "ipython3",
   "version": "3.11.9"
  }
 },
 "nbformat": 4,
 "nbformat_minor": 4
}
