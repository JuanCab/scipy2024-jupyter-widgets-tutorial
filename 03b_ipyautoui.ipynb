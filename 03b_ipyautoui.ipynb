{
 "cells": [
  {
   "cell_type": "markdown",
   "metadata": {},
   "source": [
    "# Introduction to ipyautoui\n",
    "\n",
    "ipyautoui is a Python package that provides a simple way to create interactive user interfaces in Jupyter notebooks. It is built on top of Jupyter widgets and Pydantic and provides a higher-level API for creating interactive widgets.  It is particularly well suited for creating settings panels.\n",
    "\n",
    "\n",
    "## TO DO IN THIS NOTEBOOK\n",
    "- [ ] Add a brief description of the package and its history?\n",
    "- [ ] Show how to use ipyautoui to create a simple settings panel relatively quickly\n",
    "  - [ ] Mention the active development of the package and the fact that it is still a bit buggy\n",
    "  - [ ] Mention other features of Pydantic that may be relevant to our dashboard\n",
    "- [ ] Have them replace existing settings widgets with control widget generated with ipyautoui\n",
    "- [ ] Connect new control widget to dashboard"
   ]
  }
 ],
 "metadata": {
  "language_info": {
   "name": "python"
  }
 },
 "nbformat": 4,
 "nbformat_minor": 2
}
