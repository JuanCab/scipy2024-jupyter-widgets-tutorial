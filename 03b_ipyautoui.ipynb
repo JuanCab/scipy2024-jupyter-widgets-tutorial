{
 "cells": [
  {
   "cell_type": "markdown",
   "metadata": {},
   "source": [
    "# Introduction to ipyautoui\n",
    "\n",
    "ipyautoui is a Python package that provides a simple way to create interactive user interfaces in Jupyter notebooks. It is built on top of Jupyter widgets and Pydantic and provides a higher-level API for creating interactive widgets.  It is particularly well suited for creating settings panels.\n",
    "\n",
    "\n",
    "## TO DO IN THIS NOTEBOOK\n",
    "- [ ] Add a brief description of the package and its history?\n",
    "- [ ] Show how to use ipyautoui to create a simple settings panel relatively quickly\n",
    "  - [ ] Mention the active development of the package and the fact that it is still a bit buggy\n",
    "  - [ ] Mention other features of Pydantic that may be relevant to our dashboard\n",
    "- [ ] Have them replace existing settings widgets with control widget generated with ipyautoui\n",
    "- [ ] Connect new control widget to dashboard"
   ]
  },
  {
   "cell_type": "markdown",
   "metadata": {},
   "source": [
    "# APPARENTLY WE CANT EXPORT FROM TWO NOTEBOOKS"
   ]
  },
  {
   "cell_type": "code",
   "execution_count": null,
   "metadata": {},
   "outputs": [],
   "source": [
    "#| default_exp widgets_pydantic"
   ]
  },
  {
   "cell_type": "markdown",
   "metadata": {},
   "source": [
    "## NEED MORE INTRO BEFORE WE DO THIS"
   ]
  },
  {
   "cell_type": "code",
   "execution_count": null,
   "metadata": {},
   "outputs": [],
   "source": [
    "from ipyautoui import AutoUi\n",
    "from dashboard.widgets_pydantic import DataSelectorModelDraft6"
   ]
  },
  {
   "cell_type": "code",
   "execution_count": null,
   "metadata": {},
   "outputs": [],
   "source": [
    "controls = AutoUi(DataSelectorModelDraft6)"
   ]
  },
  {
   "cell_type": "code",
   "execution_count": null,
   "metadata": {},
   "outputs": [],
   "source": [
    "controls"
   ]
  },
  {
   "cell_type": "code",
   "execution_count": null,
   "metadata": {},
   "outputs": [],
   "source": [
    "from pydantic import BaseModel, Field, model_validator\n",
    "from typing import Annotated"
   ]
  },
  {
   "cell_type": "code",
   "execution_count": null,
   "metadata": {},
   "outputs": [],
   "source": [
    "#| export\n",
    "\n",
    "class DataSelectorModel(BaseModel, validate_assignment=True):\n",
    "    year_range: Annotated[\n",
    "        tuple[int, int],\n",
    "        Field(json_schema_extra=dict(autoui='ipywidgets.IntRangeSlider'))\n",
    "    ] = (1800, 2000)\n",
    "    window_size: Annotated[int, Field(ge=2, le=100, json_schema_extra=dict(autoui='ipywidgets.BoundedIntText'))] = 2\n",
    "    polynomial_order: Annotated[int, Field(ge=1, le=10)] = 1\n",
    "\n",
    "    # mode=\"after\" means the validator runs after pydantic has checked that the individual\n",
    "    # fields have values that are valid.\n",
    "    @model_validator(mode=\"after\")\n",
    "    def limit_polynomial_order(self):\n",
    "        \n",
    "        if self.polynomial_order > self.window_size - 1:\n",
    "            # Handle a bad polynomial order or window size\n",
    "            raise ValueError(\"Polynomial order must be smaller than window size\")\n",
    "            \n",
    "        # If we got this far the polynomial order is consistent with the window size\n",
    "        # so return self. Failing to return self will end up causing an error.\n",
    "        return self"
   ]
  },
  {
   "cell_type": "code",
   "execution_count": null,
   "metadata": {},
   "outputs": [],
   "source": [
    "DataSelectorModel.model_json_schema()"
   ]
  },
  {
   "cell_type": "code",
   "execution_count": null,
   "metadata": {},
   "outputs": [],
   "source": [
    "ui = AutoUi(DataSelectorModel)\n",
    "ui"
   ]
  },
  {
   "cell_type": "code",
   "execution_count": null,
   "metadata": {},
   "outputs": [],
   "source": [
    "ui.value"
   ]
  },
  {
   "cell_type": "code",
   "execution_count": null,
   "metadata": {},
   "outputs": [],
   "source": [
    "ui.di_widgets"
   ]
  },
  {
   "cell_type": "code",
   "execution_count": null,
   "metadata": {},
   "outputs": [],
   "source": [
    "from ipyautoui import demo\n",
    "demo()"
   ]
  },
  {
   "cell_type": "code",
   "execution_count": null,
   "metadata": {},
   "outputs": [],
   "source": [
    "from nbdev.export import nb_export\n",
    "\n",
    "nb_export('03b_ipyautoui.ipynb', 'dashboard')"
   ]
  },
  {
   "cell_type": "code",
   "execution_count": null,
   "metadata": {},
   "outputs": [],
   "source": []
  }
 ],
 "metadata": {
  "kernelspec": {
   "display_name": "Python 3 (ipykernel)",
   "language": "python",
   "name": "python3"
  },
  "language_info": {
   "codemirror_mode": {
    "name": "ipython",
    "version": 3
   },
   "file_extension": ".py",
   "mimetype": "text/x-python",
   "name": "python",
   "nbconvert_exporter": "python",
   "pygments_lexer": "ipython3",
   "version": "3.11.9"
  }
 },
 "nbformat": 4,
 "nbformat_minor": 4
}
