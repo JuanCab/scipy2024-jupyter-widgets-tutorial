{
 "cells": [
  {
   "cell_type": "markdown",
   "metadata": {},
   "source": [
    "# Introduction to ipyautoui\n",
    "\n",
    "ipyautoui is a Python package that provides a simple way to create interactive user interfaces in Jupyter notebooks. It is built on top of Jupyter widgets and Pydantic and provides a higher-level API for creating interactive widgets.  It is particularly well suited for creating settings panels.\n",
    "\n",
    "\n",
    "## TO DO IN THIS NOTEBOOK\n",
    "- [x] Add a brief description of the package and its history?\n",
    "- [x] Show how to use ipyautoui to create a simple settings panel relatively quickly\n",
    "  - [ ] Mention the active development of the package and the fact that it is still a bit buggy\n",
    "  - [ ] Mention other features of Pydantic that may be relevant to our dashboard\n",
    "- [ ] Have them replace existing settings widgets with control widget generated with ipyautoui\n",
    "- [ ] Connect new control widget to dashboard"
   ]
  },
  {
   "cell_type": "code",
   "execution_count": null,
   "metadata": {},
   "outputs": [],
   "source": [
    "#| default_exp widgets_pydantic_no_dont"
   ]
  },
  {
   "cell_type": "markdown",
   "metadata": {},
   "source": [
    "## Making a widget with ipyautoui\n",
    "\n",
    "1. Define a pydantic model (or write a jason schema)\n",
    "2. Feed the model to AutoUi\n",
    "3. You get back a widget! With a value! Whose value is easy to save!"
   ]
  },
  {
   "cell_type": "markdown",
   "metadata": {},
   "source": [
    "## An example\n",
    "\n",
    "### Exercise\n",
    "\n",
    "In the cell below, create a pydantic model called `SimpleModel` with one field, called `window_size`, that is an integer."
   ]
  },
  {
   "cell_type": "code",
   "execution_count": null,
   "metadata": {},
   "outputs": [],
   "source": [
    "# TODO: write answer \n",
    "\n",
    "from pydantic import BaseModel\n",
    "\n",
    "class SimpleModel(BaseModel):\n",
    "    window_size : int"
   ]
  },
  {
   "cell_type": "markdown",
   "metadata": {},
   "source": [
    "To make a widget from this, run the cell below. `AutoUi` takes in the pydantic model and turns it into a widget. Note that it is the class itself, not an instance of the class, that is the argument to `AutoUi`."
   ]
  },
  {
   "cell_type": "code",
   "execution_count": null,
   "metadata": {},
   "outputs": [],
   "source": [
    "from ipyautoui import AutoUi\n",
    "\n",
    "ui = AutoUi(SimpleModel)"
   ]
  },
  {
   "cell_type": "markdown",
   "metadata": {},
   "source": [
    "Run the cell below to display the widget and try changing its value. Note that you can only type numbers (with out decimals) into the box. "
   ]
  },
  {
   "cell_type": "code",
   "execution_count": null,
   "metadata": {},
   "outputs": [],
   "source": [
    "ui"
   ]
  },
  {
   "cell_type": "markdown",
   "metadata": {},
   "source": [
    "### Attributes and methods of an AutoUi generated widget\n",
    "\n",
    "A couple of attributes of the auto-generated widget are particularly useful to know about. \n",
    "\n",
    "1. `di_widgets` -- dictionary of widgets, one widget for each pydantic field.\n",
    "2. `value` -- dictionary of values, one key and value for each pydantic field.\n",
    "\n",
    "Though one could use `di_widgets` to display the widget for a field outside the auto-generated widget, that is rarely useful. It is sometimes handy, though, to explore the properties of that widget, or to change its properties."
   ]
  },
  {
   "cell_type": "code",
   "execution_count": null,
   "metadata": {},
   "outputs": [],
   "source": [
    "ui.di_widgets"
   ]
  },
  {
   "cell_type": "markdown",
   "metadata": {},
   "source": [
    "In this case, `AutoUi` is representing the `int` in our model with an `IntText` widget. That kind of widget only allows integer values to be typed in it."
   ]
  },
  {
   "cell_type": "markdown",
   "metadata": {},
   "source": [
    "The `value` for an `AutoUi`-generated widget is a dictionary. The keys are the fields defined in the pydantic model and the values are the current value of that field."
   ]
  },
  {
   "cell_type": "code",
   "execution_count": null,
   "metadata": {},
   "outputs": [],
   "source": [
    "ui.value"
   ]
  },
  {
   "cell_type": "markdown",
   "metadata": {},
   "source": [
    "You can set the value, like with any other widget, but make sure that the value is a dictionary."
   ]
  },
  {
   "cell_type": "code",
   "execution_count": null,
   "metadata": {},
   "outputs": [],
   "source": [
    "ui.value = {\"window_size\": 11}"
   ]
  },
  {
   "cell_type": "markdown",
   "metadata": {},
   "source": [
    "The value can also be observed, though there is a twist -- it is `_value` that you observe, not `value`. The observer below simply prints the value of the widget.\n"
   ]
  },
  {
   "cell_type": "code",
   "execution_count": null,
   "metadata": {},
   "outputs": [],
   "source": [
    "# This observer function just prints to the screen\n",
    "def print_value(change):\n",
    "    print(f\"{change['new']=}\")\n",
    "    \n",
    "# NOTE that we are observing changes in _value rather than value\n",
    "ui.observe(print_value, \"_value\")"
   ]
  },
  {
   "cell_type": "markdown",
   "metadata": {},
   "source": [
    "### Exercise\n",
    "\n",
    "Change the value of `ui` in the cell below and confirm that you get the message you expect."
   ]
  },
  {
   "cell_type": "code",
   "execution_count": null,
   "metadata": {},
   "outputs": [],
   "source": [
    "# TODO: write answer "
   ]
  },
  {
   "cell_type": "code",
   "execution_count": null,
   "metadata": {},
   "outputs": [],
   "source": [
    "ui.value = {\"window_size\": 81}"
   ]
  },
  {
   "cell_type": "code",
   "execution_count": null,
   "metadata": {},
   "outputs": [],
   "source": [
    "ui.value = {\"window_size\": 84}"
   ]
  },
  {
   "cell_type": "markdown",
   "metadata": {},
   "source": [
    "Next, let's add Add constraints to window size, one constraint at a time, to see how they affect the widget that is generated."
   ]
  },
  {
   "cell_type": "code",
   "execution_count": null,
   "metadata": {},
   "outputs": [],
   "source": [
    "from typing import Annotated\n",
    "from pydantic import Field\n",
    "\n",
    "class SimpleModel2(BaseModel):\n",
    "    window_size : Annotated[int, Field(ge=2)]"
   ]
  },
  {
   "cell_type": "code",
   "execution_count": null,
   "metadata": {},
   "outputs": [],
   "source": [
    "ui2 = AutoUi(SimpleModel2)\n",
    "ui2"
   ]
  },
  {
   "cell_type": "markdown",
   "metadata": {},
   "source": [
    "Oh my! Apparently the widget is sort of ok with values that are not consistent with the pydantic model. Let's check to see what kind of widget ipyautoui made for us:"
   ]
  },
  {
   "cell_type": "code",
   "execution_count": null,
   "metadata": {},
   "outputs": [],
   "source": [
    "ui2.di_widgets"
   ]
  },
  {
   "cell_type": "markdown",
   "metadata": {},
   "source": [
    "It seems like a `BoundedIntText` might be a better representation of this field. We can tell ipyautoui to use that widget via a dictionary passed into the `json_schema_extra` argument. The dictionary key that specifies the widget is `autoui`."
   ]
  },
  {
   "cell_type": "code",
   "execution_count": null,
   "metadata": {},
   "outputs": [],
   "source": [
    "class SimpleModel3(BaseModel):\n",
    "    window_size : Annotated[int, Field(ge=2, json_schema_extra=dict(autoui='ipywidgets.BoundedIntText'))]"
   ]
  },
  {
   "cell_type": "code",
   "execution_count": null,
   "metadata": {},
   "outputs": [],
   "source": [
    "ui3 = AutoUi(SimpleModel3)\n",
    "ui3"
   ]
  },
  {
   "cell_type": "markdown",
   "metadata": {},
   "source": [
    "Nice, now the user cannot set the value below 2! As you can see below, that is because the `min` attribute of the `BoundedIntText` is set to 2."
   ]
  },
  {
   "cell_type": "code",
   "execution_count": null,
   "metadata": {},
   "outputs": [],
   "source": [
    "ui3.di_widgets"
   ]
  },
  {
   "cell_type": "markdown",
   "metadata": {},
   "source": [
    "Next we add the constraint that the window size must be less than or equal to 100. We also use the `desription` argument to `Field` to add a brief description of the field to the user interface."
   ]
  },
  {
   "cell_type": "code",
   "execution_count": null,
   "metadata": {},
   "outputs": [],
   "source": [
    "class SimpleModel4(BaseModel):\n",
    "    window_size: Annotated[int, Field(ge=2, le=100, description=\"Size of smoothing window\")]"
   ]
  },
  {
   "cell_type": "code",
   "execution_count": null,
   "metadata": {},
   "outputs": [],
   "source": [
    "ui4 = AutoUi(SimpleModel4)\n",
    "ui4"
   ]
  },
  {
   "cell_type": "markdown",
   "metadata": {},
   "source": [
    "Note that we have also let `ipyautoui` choose the widget -- with both an upper and lower limit provided it makes a slider."
   ]
  },
  {
   "cell_type": "code",
   "execution_count": null,
   "metadata": {},
   "outputs": [],
   "source": [
    "SimpleModel4.model_json_schema()"
   ]
  },
  {
   "cell_type": "code",
   "execution_count": null,
   "metadata": {},
   "outputs": [],
   "source": [
    "SimpleModel2.model_json_schema()"
   ]
  },
  {
   "cell_type": "markdown",
   "metadata": {},
   "source": [
    "## The data selector"
   ]
  },
  {
   "cell_type": "markdown",
   "metadata": {},
   "source": [
    "Let's import the pydantic model we finished up the last notebook with."
   ]
  },
  {
   "cell_type": "code",
   "execution_count": null,
   "metadata": {},
   "outputs": [],
   "source": [
    "from ipyautoui import AutoUi\n",
    "from dashboard.widgets_pydantic import DataSelectorModelDraft6"
   ]
  },
  {
   "cell_type": "markdown",
   "metadata": {},
   "source": [
    "Next, we create a UI for the model."
   ]
  },
  {
   "cell_type": "code",
   "execution_count": null,
   "metadata": {},
   "outputs": [],
   "source": [
    "controls = AutoUi(DataSelectorModelDraft6)\n",
    "controls"
   ]
  },
  {
   "cell_type": "markdown",
   "metadata": {},
   "source": [
    "That looks almost right, except that we want the year range selector to be a slider, not a....whatever that is."
   ]
  },
  {
   "cell_type": "code",
   "execution_count": null,
   "metadata": {},
   "outputs": [],
   "source": [
    "from pydantic import BaseModel, Field, model_validator\n",
    "from typing import Annotated"
   ]
  },
  {
   "cell_type": "markdown",
   "metadata": {},
   "source": [
    "### Exercise \n",
    "\n",
    "Add the necessary code to the class definition below to force the `year_range` to be represented with an `IntRangeSlider`."
   ]
  },
  {
   "cell_type": "code",
   "execution_count": null,
   "metadata": {},
   "outputs": [],
   "source": [
    "# TODO: write answer \n",
    "\n",
    "class DataSelectorModelPenultimate(BaseModel, validate_assignment=True):\n",
    "    year_range: Annotated[\n",
    "        tuple[int, int],\n",
    "        Field(json_schema_extra=dict(autoui='ipywidgets.IntRangeSlider'))  # Fill in the correct arguments here\n",
    "    ] = (1800, 2000)\n",
    "    window_size: Annotated[int, Field(ge=2, le=100)] = 2\n",
    "    polynomial_order: Annotated[int, Field(ge=1, le=10)] = 1\n",
    "\n",
    "    # mode=\"after\" means the validator runs after pydantic has checked that the individual\n",
    "    # fields have values that are valid.\n",
    "    @model_validator(mode=\"after\")\n",
    "    def limit_polynomial_order(self):\n",
    "        \n",
    "        if self.polynomial_order > self.window_size - 1:\n",
    "            # Handle a bad polynomial order or window size\n",
    "            raise ValueError(\"Polynomial order must be smaller than window size\")\n",
    "            \n",
    "        # If we got this far the polynomial order is consistent with the window size\n",
    "        # so return self. Failing to return self will end up causing an error.\n",
    "        return self"
   ]
  },
  {
   "cell_type": "code",
   "execution_count": null,
   "metadata": {},
   "outputs": [],
   "source": [
    "ui = AutoUi(DataSelectorModelPenultimate)\n",
    "ui"
   ]
  },
  {
   "cell_type": "markdown",
   "metadata": {},
   "source": [
    "### Exercise\n",
    "\n",
    "Try setting the window size and polynomial order to an invalid combination and see what happens."
   ]
  },
  {
   "cell_type": "markdown",
   "metadata": {},
   "source": [
    "### Fixing the range of the slider\n",
    "\n",
    "You may have noticed that range of the `year_range` slider isn't correct. The minimum is 0 and the maximum is 100.\n",
    "\n",
    "There are a couple of ways we can fix this:\n",
    " \n",
    "1. Set those properties on the slider.\n",
    "2. Modify the type hint we provide for `year_range`.\n",
    "\n",
    "Let's try both. For the sake of argument we will assume that the year range is 1880 to 2020."
   ]
  },
  {
   "cell_type": "markdown",
   "metadata": {},
   "source": [
    "#### Setting the widget properties\n",
    "\n",
    "Recall that the `di_widgets` attribute of an `AutoUi` control is a dictionary whose keys are our field names and whose values are the widget(s) representing that field.\n",
    "\n",
    "With that in mind, we can set the `min` and `max` properties of the auto-generated control like this:"
   ]
  },
  {
   "cell_type": "code",
   "execution_count": null,
   "metadata": {},
   "outputs": [],
   "source": [
    "ui.di_widgets[\"year_range\"].max = 2020\n",
    "ui.di_widgets[\"year_range\"].min = 1880"
   ]
  },
  {
   "cell_type": "markdown",
   "metadata": {},
   "source": [
    "We can set the value in a similar way."
   ]
  },
  {
   "cell_type": "code",
   "execution_count": null,
   "metadata": {},
   "outputs": [],
   "source": [
    "ui.di_widgets[\"year_range\"].value = (1880, 2020)"
   ]
  },
  {
   "cell_type": "markdown",
   "metadata": {},
   "source": [
    "#### Modifying the type hints"
   ]
  },
  {
   "cell_type": "markdown",
   "metadata": {},
   "source": [
    "An alternative approach to setting the `min` and `max` directly is to modify the pydantic model to reflect the fact that the two `int`s that make up the `year_range` have constraints on them: each of the integers must fall within the range of years provided.\n",
    "\n",
    "What we want to end up doing is expressing to pydantic that each `int` has a restricted range. We'll do that by defining our own type below and then using that custom type in our Ppydantic model.\n",
    "\n",
    "We use feature of type hinting introduced in Python 3.12 called type aliasing to do this. The feature looks very different in Python 3.12 than it does in ealier versions of Python.\n",
    "\n",
    "The cell below imports`TypeAliasType` from `typing-extensions`to let pydantic and type checkers know that we are defining a new type. `typing-extensions` is a package that backports new typing features in python to Python versions before the feature was added.\n",
    "\n",
    "The equivalent to the definition of `ConstrainedInt` below in Python 3.12 looks like this:\n",
    "\n",
    "```python\n",
    "# Only works in Python 3.12 and up!\n",
    "type ConstrainedInt = Annotated[int, Field(ge=1880, le=2020)]\n",
    "```"
   ]
  },
  {
   "cell_type": "code",
   "execution_count": null,
   "metadata": {},
   "outputs": [],
   "source": [
    "from typing_extensions import TypeAliasType"
   ]
  },
  {
   "cell_type": "code",
   "execution_count": null,
   "metadata": {},
   "outputs": [],
   "source": [
    "ConstrainedInt = TypeAliasType(\"ConstrainedInt\", Annotated[int, Field(ge=1880, le=2020)])"
   ]
  },
  {
   "cell_type": "code",
   "execution_count": null,
   "metadata": {},
   "outputs": [],
   "source": [
    "class DataSelectorModel(BaseModel, validate_assignment=True):\n",
    "    year_range: Annotated[\n",
    "        # The key change is in the line below\n",
    "        tuple[ConstrainedInt, ConstrainedInt],\n",
    "        # With this change to the type we no longer need to tell ipyautoui\n",
    "        # what kind of widget to use. Field contains just a brief description\n",
    "        Field(description=\"Range of years to plot\")\n",
    "    ] = (1800, 2000)\n",
    "    window_size: Annotated[int, Field(ge=2, le=100)] = 2\n",
    "    polynomial_order: Annotated[int, Field(ge=1, le=10)] = 1\n",
    "\n",
    "    # mode=\"after\" means the validator runs after pydantic has checked that the individual\n",
    "    # fields have values that are valid.\n",
    "    @model_validator(mode=\"after\")\n",
    "    def limit_polynomial_order(self):\n",
    "        \n",
    "        if self.polynomial_order > self.window_size - 1:\n",
    "            # Handle a bad polynomial order or window size\n",
    "            raise ValueError(\"Polynomial order must be smaller than window size\")\n",
    "            \n",
    "        # If we got this far the polynomial order is consistent with the window size\n",
    "        # so return self. Failing to return self will end up causing an error.\n",
    "        return self"
   ]
  },
  {
   "cell_type": "code",
   "execution_count": null,
   "metadata": {},
   "outputs": [],
   "source": [
    "ui_final = AutoUi(DataSelectorModel)\n",
    "ui_final"
   ]
  },
  {
   "cell_type": "markdown",
   "metadata": {},
   "source": [
    "## Enforcing the constraint between polynomial order and window size\n",
    "\n",
    "There are a few options here:\n",
    "\n",
    "1. Change one or both of the ranges of `widnow_size` and `polynomial_order`\n",
    "    1. When window size is being changed and a conflict arises, either\n",
    "        1. update the maximum value of the polynomial order to be consistent with window size, with the side effect that the value will be updated to.\n",
    "        1. update the value of `polynomial_order` but not its maximum.\n",
    "    1. When the polynomial order is changed, either\n",
    "        1. update the minimum allowed window size, or\n",
    "        1. update the value of the window size.\n",
    "1. reset the controls to a valid value and display a warning to the user.\n",
    "\n",
    "It does not matter so much which of these you choose, but you do need to choose one."
   ]
  },
  {
   "cell_type": "markdown",
   "metadata": {},
   "source": [
    "In the first version of the dashboard we did choice 1.A.a -- when `window_size` changed the `polynomial_order` was set to the smaller of 10 and `window_size - 1`.\n",
    "\n",
    "Here we will implement 2 because it is a little different than what we did in the first round of the dashboard. It also places the responsibility of deciding the correct course of action (increase `window_size` or decrease `polynomial-order`) on the user. "
   ]
  },
  {
   "cell_type": "markdown",
   "metadata": {},
   "source": [
    "Our approach is to observe the `_value` of the widget, try to make a valid model out of it, and if that fails set the widget to the old value. `ipyautoui` will take care of displaying an appropriate error message for us.\n",
    "\n",
    "The observe below is created using a [*closure*](https://en.wikipedia.org/wiki/Closure_(computer_programming)), which is a function that is created inside of another function where the inner function uses some of the variables form the outer function. Here we do that instead of treating `ui` as a global variable."
   ]
  },
  {
   "cell_type": "code",
   "execution_count": null,
   "metadata": {},
   "outputs": [],
   "source": [
    "from pydantic import ValidationError\n",
    "def make_enforcer(ui):\n",
    "    \"\"\"\n",
    "    Make a function that can be used to observe changes on a \n",
    "    user interface element.\n",
    "\n",
    "    Parameters\n",
    "    ----------\n",
    "\n",
    "    ui: an AutoUi widget\n",
    "\n",
    "    Returns\n",
    "    -------\n",
    "\n",
    "    callable\n",
    "        A function that can be used as the observer of a traitlets event.\n",
    "    \"\"\"\n",
    "    def constraint_enforcer(change):\n",
    "        \"\"\"\n",
    "        Reset widget to the most recent valid value if the new\n",
    "        value results in an invalid value.\n",
    "        \"\"\"\n",
    "        try:\n",
    "            # Every AutoUi widget has a copy of the model class\n",
    "            # We'll try validating the value in change[\"new\"] and see if it works\n",
    "            ui.model.model_validate(change[\"new\"])\n",
    "        except ValidationError:\n",
    "            # That failed, so reset the ui to the old value\n",
    "            ui.value = change[\"old\"]\n",
    "\n",
    "    return constraint_enforcer"
   ]
  },
  {
   "cell_type": "code",
   "execution_count": null,
   "metadata": {},
   "outputs": [],
   "source": [
    "ui_final.observe(make_enforcer(ui_final), \"_value\")"
   ]
  },
  {
   "cell_type": "code",
   "execution_count": null,
   "metadata": {},
   "outputs": [],
   "source": [
    "ui_final"
   ]
  },
  {
   "cell_type": "markdown",
   "metadata": {},
   "source": [
    "## Further exploration of ipyautoui\n",
    "\n",
    "The easiest way to get a better idea of what ipyautoui can do is to try out its demo. If you have time, feel free to explore!"
   ]
  },
  {
   "cell_type": "code",
   "execution_count": null,
   "metadata": {},
   "outputs": [],
   "source": [
    "from ipyautoui import demo\n",
    "demo()"
   ]
  },
  {
   "cell_type": "code",
   "execution_count": null,
   "metadata": {},
   "outputs": [],
   "source": []
  }
 ],
 "metadata": {
  "kernelspec": {
   "display_name": "Python 3 (ipykernel)",
   "language": "python",
   "name": "python3"
  },
  "language_info": {
   "codemirror_mode": {
    "name": "ipython",
    "version": 3
   },
   "file_extension": ".py",
   "mimetype": "text/x-python",
   "name": "python",
   "nbconvert_exporter": "python",
   "pygments_lexer": "ipython3",
   "version": "3.11.9"
  }
 },
 "nbformat": 4,
 "nbformat_minor": 4
}
