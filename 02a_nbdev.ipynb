{
 "cells": [
  {
   "cell_type": "markdown",
   "id": "a55fea8a-ca20-4dcf-a452-67cae672b555",
   "metadata": {},
   "source": [
    "# nbdev\n",
    "\n",
    "## TO DO IN THIS NOTEBOOK\n",
    "- [ ] Restructure as a much tighter review of nbdev and how it can help in the development of a package to be used for our dashboard project\n",
    "- [x] Be sure to mention the challenges of using nbdev, notably the need to be careful about what you export to packages (do we keep discussion of literate programming in here?)\n",
    "- [ ] Get to the point where a first version of the dashboard package is created, but note the complexity in the handling of all the settings since we require observer functions to handle all the individual settings (since they are separate widgets).  Do we mention the need to code up validation of the settings (e.g. - We need to ensure the degree of the fit was reasonable give the number of data points, etc.)?\n",
    "- [x] Add hyperlinks to the nbdev documentation and other resources"
   ]
  },
  {
   "cell_type": "markdown",
   "id": "808130cf-0f9b-41d0-b1ea-31e23236fd54",
   "metadata": {},
   "source": [
    "## What is nbdev?\n",
    "\n",
    "- [nbdev](https://nbdev.fast.ai) - a notebook-driven development platform. Simply write notebooks with lightweight markup and get high-quality documentation, tests, continuous integration, and packaging. \n",
    "\n",
    "- [\"modular\" nbdev](https://nbdev.fast.ai/tutorials/modular_nbdev.html) - makes use of only the most basic features of nbdev. It will allow us take any standalone notebook and turn it into a Python script or module. Modular nbdev will allow us to bridge the gap between messy, exploratory tutorial notebooks and clean, well-organized Python modules that we can import from. \n",
    "\n",
    "The following introduction to \"modular nbdev\" is a much simpler than the [nbdev tutorial](https://nbdev.fast.ai/tutorials/tutorial.html), because we won't create a continuous integration Python package that can be uploaded to PyPi or Anaconda. We will simply use notebooks to create clean python modules that we can use to build our dashboards and web apps. From here on out, when we mention nbdev, we are really referring to modular nbdev. "
   ]
  },
  {
   "cell_type": "markdown",
   "id": "70d31e2b-05fa-47f5-86b2-efdb781361ba",
   "metadata": {},
   "source": [
    "## What will we learn in this notebook?\n",
    "\n",
    "### Export code to modules with nb_export\n",
    "- `#| default_exp` directive to signal which module to export to\n",
    "- `#| export` directive to signal that a cell is to be included in the export\n",
    "- `nbdev.export.nb_export` with the name of the notebook and export directory\n",
    "- benefits and challenges of nbdev\n",
    "\n",
    "### End Goal\n",
    "\n",
    "The end goal of this tutorial notebook is to understand how we can use nbdev to create a `dashboard` python module that contains all the files we need for our dashboard.  We can use some of the cells in this notebook to create a python module that we can import to other notebooks. "
   ]
  },
  {
   "cell_type": "markdown",
   "id": "3cc86c65-f783-492c-bd8d-926da31f3ae5",
   "metadata": {},
   "source": [
    "## nbdevExports\n",
    "\n",
    "### Benefits\n",
    "\n",
    "The real benefit of being able to exclude code cells lies in the ability to tell the story of how your code came into it's final form, whether for a tutorial or just because you value documenting code design and decision making. Instead of cleaning up our notebooks when we have achieved your coding goal, we can leave in all the valuable information we left behind along the way. This is helpful for another developer or our future-selves who may be trying to read our code. We don't have to hold as many variables in their head, because we can see the steps broken down and read the intermediate values without having to use a debugger.\n",
    "\n",
    "- show intermediate steps for clarity and testing\n",
    "- document failed attempts and design decisions\n",
    "- develop iteratively without having to \"clean\" code"
   ]
  },
  {
   "cell_type": "markdown",
   "id": "f9f1341d-d52e-4e12-a293-a3e510bb8a71",
   "metadata": {},
   "source": [
    "### #| default_exp\n",
    "\n",
    "The `default_exp` directive is required of all notebooks used by nbdev. Notice that nbdev directives all start with \"#|\". \n",
    "This requires that we add a default export directive to our notebook. It tells nbdev what module to export to. You can also give it a “dotted module names” as is done with python packages. For example, a default export to `some.module` will create a file called `some/module.py`."
   ]
  },
  {
   "cell_type": "markdown",
   "id": "2bf7ccc7-7160-430e-b73d-3b68f543ed96",
   "metadata": {},
   "source": [
    "### #| export\n",
    "\n",
    "This directive tells nbdev that we want to export this code to the module specified by `default_exp`. Notice that we need to export everything that we want to end up in the python file, so we can't forget to export our imports.\n",
    "\n",
    "**NOTE:** When performing an export, the cell can only contain imports OR some other Python commands, but not both.  This is due to the way `nbdev` parses the cells to analyze for documentation."
   ]
  },
  {
   "cell_type": "markdown",
   "id": "deb1ee04-9bdb-4131-9361-89a2dce6e90a",
   "metadata": {},
   "source": [
    "### Challenges\n",
    "\n",
    "The great benefit of using nbdev for development can also be the most challening part of using nbdev - making sure we have not forgotten to export all the right cells to our resulting Python file. If you ever get a confusing or unexpected error on importing a module created with nbdev, it's very likely you forgot to export one of your code cells. "
   ]
  },
  {
   "cell_type": "markdown",
   "id": "f6824dc7-03a7-4a76-91b3-4494c64fbdfb",
   "metadata": {},
   "source": [
    "## Create `dashboard` module\n",
    "\n",
    "How we will use nbdev to create a python module - `dashboard` - that we will use to create modules that contain files we will use improve our development experience."
   ]
  },
  {
   "cell_type": "markdown",
   "id": "139e929d-6eb0-4b45-b9cb-8121faf4a6c6",
   "metadata": {},
   "source": [
    "The first thing we need to do is create a default export statement."
   ]
  },
  {
   "cell_type": "code",
   "execution_count": null,
   "id": "2e4e22d8-5e1b-42f9-938c-e96e56504a84",
   "metadata": {},
   "outputs": [],
   "source": [
    "# TODO: Add default export directive for the dashboard module"
   ]
  },
  {
   "cell_type": "markdown",
   "id": "768db916-323c-4f36-8d12-e4d5505c17af",
   "metadata": {},
   "source": [
    "### %answer line magic\n",
    "\n",
    "Below is the code that defines the cell magic function called `exception`. Often in tutorials, we want to demonstrate an intentional error. The default behavior of a Jupyter Notebook is to print the full traceback, which can be quite lengthy and distracting. In addition, if the participant wants to \"Restart and Run All Cells\" due to some problem they encountered, the execution will get hung up where the error is. In our case, when running a cell with an error for demonstrative purposes, we want to display the error, but we don't want to display the traceback or prevent the execution of the next cell. This cell magic achieves this desired behavior."
   ]
  },
  {
   "cell_type": "code",
   "execution_count": null,
   "id": "4a54f937-2bd7-473d-8dc9-b575de271b45",
   "metadata": {},
   "outputs": [],
   "source": [
    "# TODO: add the missing export directive\n",
    "from IPython.core.magic import register_line_magic, register_cell_magic, needs_local_scope\n",
    "from IPython import get_ipython\n",
    "import re, sys, os"
   ]
  },
  {
   "cell_type": "code",
   "execution_count": null,
   "id": "4f2bd252-8ec7-416e-8491-3f6e9b9baacd",
   "metadata": {},
   "outputs": [],
   "source": [
    "#| export\n",
    "@register_cell_magic('exception')\n",
    "def exception(line, cell):\n",
    "    ip = get_ipython()\n",
    "    try:\n",
    "        exec(cell, None, ip.user_ns)\n",
    "    except Exception as e:\n",
    "        etype, value, tb = sys.exc_info()\n",
    "        value.__cause__ = None  # suppress chained exceptions\n",
    "        ip._showtraceback(etype, value, ip.InteractiveTB.get_exception_only(etype, value))"
   ]
  },
  {
   "cell_type": "markdown",
   "id": "a822ea0b-cb3b-4504-913e-ec372c9e6fe0",
   "metadata": {},
   "source": [
    "As I said, the benefit of literate programming is that we can test out this function in-line. We don't have to delete the exploratory or explanitory code. The next line shows what happens when we use the cell magic. Notice that there isn't an export directive at the top, so this breaking error isn't exported to our python module."
   ]
  },
  {
   "cell_type": "code",
   "execution_count": null,
   "id": "bab48bcc-9a44-4ad5-8e30-8ba332e0a16c",
   "metadata": {},
   "outputs": [],
   "source": [
    "%%exception\n",
    "\n",
    "5 / 0"
   ]
  },
  {
   "cell_type": "markdown",
   "id": "f13d0efc-f3e0-4fd0-87bb-b7478211dfe5",
   "metadata": {},
   "source": [
    "You can compare that output to the output below, which includes a traceback by default because the cell magic wasn't used."
   ]
  },
  {
   "cell_type": "code",
   "execution_count": null,
   "id": "04f6f9ff-6631-48e0-9d20-066640a20005",
   "metadata": {},
   "outputs": [],
   "source": [
    "5 / 0"
   ]
  },
  {
   "cell_type": "markdown",
   "id": "49568f0d-4ad9-4727-9fa0-bcdf3005e0bb",
   "metadata": {},
   "source": [
    "Isn't nbdev great! Instead of playing with toy examples, we can build a sophisticated, clean Python application from a series of tutorial-style notebooks. All the python modules and packages in this tutorial were produced from the tutorial notebooks."
   ]
  },
  {
   "cell_type": "markdown",
   "id": "ca63138c-13ff-445e-8a55-7176def3366f",
   "metadata": {},
   "source": [
    "### %answer line magic\n",
    "\n",
    "The code below allows us to import code from the nbdev-generated python files like the one we loaded above. You can think of this function working like the `%load` line magic, which pulls in code from an external file. But instead of loading the entire file, this function loads only the python code that came from an exported notebook cell. "
   ]
  },
  {
   "cell_type": "code",
   "execution_count": null,
   "id": "bf826708-05c7-48a6-b8ce-8423fe897faf",
   "metadata": {},
   "outputs": [],
   "source": [
    "#| export\n",
    "@register_line_magic('answer')\n",
    "def answer(inputs):\n",
    "    '''\n",
    "    This is a cell magic called answer that allows tutorial goers to import the correct answer from the key. \n",
    "    '''\n",
    "    words = []\n",
    "    for word in inputs.split(' '):\n",
    "        if not word.startswith('#') and len(word) != 0:\n",
    "            words.append(word)\n",
    "        else:\n",
    "            break\n",
    "    \n",
    "    flag = False\n",
    "    if len(words) == 2:\n",
    "        if words[1] == '-e':\n",
    "            flag = True\n",
    "        else:\n",
    "            filepath = words[0]\n",
    "            cell_number = int(words[1])\n",
    "\n",
    "            with open(filepath, 'r') as file:\n",
    "                lines = file.readlines()\n",
    "\n",
    "            pattern = r'# %%\\s+(.+)\\s+(\\d+)'\n",
    "            start_line = None\n",
    "            end_line = None\n",
    "\n",
    "            for i, line in enumerate(lines):\n",
    "                if re.match(pattern, line):\n",
    "                    match = re.search(pattern, line)\n",
    "                    if match and int(match.group(2)) == cell_number:\n",
    "                        start_line = i + 1\n",
    "                        break\n",
    "            if start_line is not None:\n",
    "                for i in range(start_line, len(lines)):\n",
    "                    if re.match(pattern, lines[i]):\n",
    "                        end_line = i\n",
    "                        break\n",
    "                else:\n",
    "                    end_line = len(lines)\n",
    "\n",
    "            if start_line is not None and end_line is not None:\n",
    "                code_chunk = f\"#| export\\n# %answer {inputs}\\n\\n\" + ''.join(lines[start_line:end_line])\n",
    "                code_chunk = code_chunk.rstrip(\"\\n\")\n",
    "                get_ipython().set_next_input(code_chunk, replace=True)\n",
    "            else:\n",
    "                raise Exception(f\"Cell number {cell_number} not found in the Python file.\")\n",
    "        \n",
    "    if len(words) == 1 or words[1] == '-e':\n",
    "        filepath = words[0]\n",
    "        with open(filepath, 'r') as file:\n",
    "            lines = file.readlines()\n",
    "        code_chunk = ''.join(lines[:])\n",
    "        if flag:\n",
    "            code_chunk = f\"# %%export {filepath}\\n\\n\" + code_chunk\n",
    "        else: \n",
    "            code_chunk = f\"# %answer {filepath}\\n\\n\" + code_chunk\n",
    "        get_ipython().set_next_input(code_chunk, replace=True)\n",
    "    \n",
    "    with open(filepath, 'r') as file:\n",
    "        lines = file.readlines()"
   ]
  },
  {
   "cell_type": "markdown",
   "id": "8550a7c2-5176-4a9e-b66d-db1ccd44fdf3",
   "metadata": {},
   "source": [
    "If at any point in this tutorial you have trouble coming up with an answer on your own, you can always import it from the answer key.\n",
    "\n",
    "### Pull from exported module\n",
    "\n",
    "This will be the case when we are pulling in an answer to a cell that starts with `#| export`. The path to the answer key files is the same as the default, but is preceeded by the `key` directory. For example, the next line will load the code from the 6th cell of this notebook, which is the import statements. "
   ]
  },
  {
   "cell_type": "code",
   "execution_count": null,
   "id": "d2cb3849-b5f0-4313-928e-1cf3bcc425d2",
   "metadata": {},
   "outputs": [],
   "source": [
    "# %answer key/dashboard/__init__.py 6"
   ]
  },
  {
   "cell_type": "markdown",
   "id": "7c9ff319-d009-4d66-8eea-e663b3f41d62",
   "metadata": {},
   "source": [
    "### Pull from file\n",
    "\n",
    "Sometimes we will want to check an answer from a cell that isn't a module exported by nbdev. In this case, we will provide the file path only.\n",
    "\n",
    "**In both cases, these paths will be provided for you in comments.**"
   ]
  },
  {
   "cell_type": "markdown",
   "id": "9c7ecc7a-0058-4d2f-be99-0d50a6fe0519",
   "metadata": {},
   "source": [
    "## nb_export\n",
    "\n",
    "Next we can use the nb_export function to compile the exported cells into a python file. The second parameter tells nbdev which package to export the module to. Let's go ahead and export this notebook to the `dashboard` package. \n",
    "\n",
    "> **IMPORTANT**: do not forget to save before exporting the notebook, or your most recent changes will not make it into the py file. It is also a good habit to \"Restart Kernel and Clear All Outputs\" and then save your notebook at the same time as you export. That way, when you get around to committing your code, your git diff isn't filled up with a bunch of serial numbers and other unintelligible things."
   ]
  },
  {
   "cell_type": "code",
   "execution_count": null,
   "id": "0b8b5029-0636-4dda-ae11-d5641450ec35",
   "metadata": {},
   "outputs": [],
   "source": [
    "from nbdev.export import nb_export\n",
    "\n",
    "nb_export('03_nbdev.ipynb', 'dashboard')"
   ]
  },
  {
   "cell_type": "markdown",
   "id": "dcd23a2c-ec98-4ab5-a362-1ff9e1e5f37d",
   "metadata": {},
   "source": [
    "Usually, we will put `nb_export` at the end of our file for convenience, but we will continue on from here."
   ]
  },
  {
   "cell_type": "markdown",
   "id": "a7a42e2c-1d26-4771-8380-f05d1446cccc",
   "metadata": {},
   "source": [
    "Another way to verify that this worked is to import the function we just wrote to the python file. Can you guess what that import statement would look like?"
   ]
  },
  {
   "cell_type": "code",
   "execution_count": null,
   "id": "8c0f19f1-f4a8-4740-a069-d038e5d8b503",
   "metadata": {},
   "outputs": [],
   "source": [
    "# %answer 03/01.py\n",
    "\n",
    "# import ..."
   ]
  },
  {
   "cell_type": "markdown",
   "id": "c7060754-a91a-42e1-8aa0-0455741edb66",
   "metadata": {},
   "source": [
    "So for most modules, the import statement would look like `dashboard.__init__` but the `__init__` file is special, and will be imported any time we make an import from `dashboard` package.\n",
    "\n",
    "Great job! Now we know the basic idea of what nbdev does. Go ahead and use the `%load` line magic inspect the exported file below."
   ]
  },
  {
   "cell_type": "code",
   "execution_count": null,
   "id": "1c1de961-d19b-41b7-a893-992d8fb32422",
   "metadata": {},
   "outputs": [],
   "source": [
    "# %answer key/03/02.py\n",
    "\n",
    "# %load pkg/module.py"
   ]
  },
  {
   "cell_type": "markdown",
   "id": "4ef6b07d-1023-48ec-bdb6-879d1c7d216d",
   "metadata": {},
   "source": [
    "There are a few thing to notice here. One is that we get a warning about this file being autogenerated. That is, if we make changes to `dashboard/__init__.py`, those changes will be overwritten the next time we run `nb_export`.\n",
    "\n",
    "The second thing to notice is that there is a handy comment to tell us where the code came from. `# %% ../_nbdev.ipynb 9` tells us that the code came from the 9th code cell. We will use this information to write our next magic function."
   ]
  },
  {
   "cell_type": "markdown",
   "id": "4fa634ee-53f9-41d1-8ad4-8d55f5e154be",
   "metadata": {},
   "source": [
    "### The End\n",
    "\n",
    "We will not go over the code below. Proceed to the next notebook.\n",
    "___"
   ]
  },
  {
   "cell_type": "code",
   "execution_count": null,
   "id": "97fb40d0-242e-4aea-aa50-d054d38f8b55",
   "metadata": {},
   "outputs": [],
   "source": [
    "#| export\n",
    "@register_cell_magic('export')\n",
    "def export(line, cell=None):\n",
    "    line_args = line.split()\n",
    "    export_filepath = None\n",
    "\n",
    "    if len(line_args):\n",
    "        export_filepath = line_args[0]\n",
    "        directory = os.path.dirname(export_filepath)\n",
    "        os.makedirs(directory, exist_ok=True)\n",
    "        with open(export_filepath, 'w') as file:\n",
    "            file.write(cell)\n",
    "        print(f\"exported to {export_filepath}\")\n",
    "            \n",
    "    processed_lines = []\n",
    "    for line in cell.split('\\n'):\n",
    "        comment_match = re.search(r'#', line)\n",
    "        if comment_match:\n",
    "            line = line[comment_match.start():]\n",
    "            processed_lines.append(line)\n",
    "\n",
    "    processed_cell = '\\n'.join(processed_lines)\n",
    "    if len(line_args):\n",
    "        processed_cell = '# %answer ' + line_args[0] + '\\n\\n' + processed_cell\n",
    "    get_ipython().set_next_input(processed_cell, replace=True)"
   ]
  },
  {
   "cell_type": "code",
   "execution_count": null,
   "id": "f38ff439-b7c6-4f66-bcea-ca87a079d7cd",
   "metadata": {},
   "outputs": [],
   "source": []
  }
 ],
 "metadata": {
  "kernelspec": {
   "display_name": "Python 3 (ipykernel)",
   "language": "python",
   "name": "python3"
  }
 },
 "nbformat": 4,
 "nbformat_minor": 5
}
